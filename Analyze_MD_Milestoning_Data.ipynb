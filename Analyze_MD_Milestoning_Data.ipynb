{
 "cells": [
  {
   "cell_type": "markdown",
   "metadata": {},
   "source": [
    "This notebook will analyze the milestoning data extracted from milestoning MD simulations (see Extract_MD_Milestoning_Data.ipynb)\n",
    "\n",
    "The background for computing the escape matrix and corresponding equilibrium distribution is discussed here. The source code for the function that implements this can be found in the file \"analysis_functions.py\" (see definition for function \"analyze_milestone1D_data\").\n",
    "\n",
    "If you are running this on the cloud (e.g. google colab, kaggle, etc) you will need to clone the repo. If you have not done so already. You can do this by uncommenting and running the cell below."
   ]
  },
  {
   "cell_type": "code",
   "execution_count": null,
   "metadata": {},
   "outputs": [],
   "source": [
    "#!git clone https://github.com/wesleymsmith/Milestoning_Analysis.git"
   ]
  },
  {
   "cell_type": "code",
   "execution_count": null,
   "metadata": {},
   "outputs": [],
   "source": [
    "#!ln -s Milestoning_Analysis/analysis_functions.py ./"
   ]
  },
  {
   "cell_type": "code",
   "execution_count": 97,
   "metadata": {},
   "outputs": [],
   "source": [
    "import numpy as np\n",
    "import pandas as pd\n",
    "import matplotlib\n",
    "from matplotlib import pyplot as plt\n",
    "import tqdm\n",
    "import copy\n",
    "import gc\n",
    "import sys\n",
    "import os\n",
    "import f90nml\n",
    "import itertools\n",
    "\n",
    "import bokeh\n",
    "from bokeh.layouts import gridplot\n",
    "from bokeh.models import ColumnDataSource, CDSView, GroupFilter, HoverTool\n",
    "from bokeh.plotting import figure, show\n",
    "from bokeh.transform import factor_cmap\n",
    "from bokeh.palettes import Spectral11\n",
    "\n",
    "from bokeh.models.mappers import CategoricalColorMapper\n",
    "\n",
    "import ipywidgets as widgets\n",
    "from ipywidgets import interact, interact_manual\n",
    "\n",
    "import scipy as sp\n",
    "from scipy.sparse import linalg\n",
    "\n",
    "import analysis_functions"
   ]
  },
  {
   "cell_type": "markdown",
   "metadata": {},
   "source": [
    "First, the data needs to be loaded from the coordinate and restraint data files. If needed, these can be found in the git repo described above."
   ]
  },
  {
   "cell_type": "code",
   "execution_count": 98,
   "metadata": {},
   "outputs": [
    {
     "name": "stdout",
     "output_type": "stream",
     "text": [
      "   Window  Time       X\n",
      "0       0     0  15.195\n",
      "1       0   500  14.744\n",
      "2       0  1000  14.688\n",
      "3       0  1500  14.631\n",
      "4       0  2000  14.230\n",
      "   W1L_r2  W1L_r3  W1L_rk2  W1L_rk3  W2L_r2  W2L_r3  W2L_rk2  W2L_rk3  Window\n",
      "0   109.0   111.0      0.0      0.0    14.0    16.0    100.0    100.0       0\n",
      "1   107.0   109.0      0.0      0.0    16.0    18.0    100.0    100.0       1\n",
      "2   105.0   107.0      0.0      0.0    18.0    20.0    100.0    100.0       2\n",
      "3   103.0   105.0      0.0      0.0    20.0    22.0    100.0    100.0       3\n"
     ]
    }
   ],
   "source": [
    "dataDir='.'\n",
    "#dataDir='Milestoning_Analysis' #uncomment this line if you had to clone the repo as directed above\n",
    "\n",
    "coordDataFile='Simulation_Milestone_Coordinate_Data.csv'\n",
    "restDataFile='Simulation_Milestone_Restraint_Data.csv'\n",
    "\n",
    "simData=pd.read_csv(dataDir+'/'+coordDataFile)\n",
    "restData=pd.read_csv(dataDir+'/'+restDataFile)\n",
    "\n",
    "print simData.head()\n",
    "print restData.head()"
   ]
  },
  {
   "cell_type": "markdown",
   "metadata": {},
   "source": [
    "Next, we need to extract the centers and upper and lower bounds of each window from the restraint data table"
   ]
  },
  {
   "cell_type": "code",
   "execution_count": 99,
   "metadata": {},
   "outputs": [
    {
     "name": "stdout",
     "output_type": "stream",
     "text": [
      "Window Centers:      [' 15.0000', ' 17.0000', ' 19.0000', ' 21.0000']\n",
      "Left Window Edges:   [' 14.0000', ' 16.0000', ' 18.0000', ' 20.0000']\n",
      "Right Window Edges:  [' 16.0000', ' 18.0000', ' 20.0000', ' 22.0000']\n"
     ]
    }
   ],
   "source": [
    "winMins=restData.W2L_r2\n",
    "winMaxs=restData.W2L_r3\n",
    "windowCenters=(winMins+winMaxs)/2.0\n",
    "print 'Window Centers:     ',\n",
    "print map(lambda x: '%8.4f'%x,windowCenters)\n",
    "\n",
    "print 'Left Window Edges:  ',\n",
    "print map(lambda x: '%8.4f'%x,winMins)\n",
    "\n",
    "print 'Right Window Edges: ',\n",
    "print map(lambda x: '%8.4f'%x,winMaxs)"
   ]
  },
  {
   "cell_type": "markdown",
   "metadata": {},
   "source": [
    "We are now ready to compute the escape matrix and corresponding equilibrium probabilities for being in each window.\n",
    "\n",
    "The escape matrix is an Nwindow by Nwindow matrix with a diagonal of 0.\n",
    "The off diagonals represent the probability of transitioning form one window to another.\n",
    "\n",
    "I.e.\n",
    "$$M_{i,j}=N_{i->j}/N_{i}$$\n",
    "where $M_{i,j}$ is an element of the escape matrix, $N_{i->j}$ is the number of frames where $x$ is observed in bin $j$ when it was in bin $i$ on the previous frame, and $N_{i}$ is the number of frames where $x$ is observed in bin $i$ as computed from the simulation with the milestoning well for bin $i$\n",
    "\n",
    "We then use the definition of the escape matrix to help us find the equilibrium distribution.\n",
    "\n",
    "The procedure is an adaptation of matlab code from a colaborator. The essential theory is that at equilibrium, the net flux into a given state should equal the net flux out. For a more in depth discussion see the paper: 'Maragliano, L. et. al. \"Free Energy and Kinetics of Conformational Transitions from Voronoi Tessellated Milestoning with Restraining Potentials,\" <I> J. Chem. Theory Comput.</I> <B>2009</B>, 5; DOI: 10.1021/ct900279z'\n",
    "\n",
    "Our escape matrix was originally defined in terms of the cells of an N-dimensional voronoi tesselation we use the term 'cell' in the following discussion instead of 'window' but for a 1D case the two are interchangeable. defines the net flux $\\matrix{E}_{i,j}$ defines the flux from cell (window) $i$ into cell $j$.\n",
    "Or another way to think of it is the probability that a particle sitting in cell $i$ will move into cell $j$ is given by $\\matrix{E}_{i,j}$.\n",
    "By this definition, the transpose of $\\matrix{E}$ would give the probability of moving INTO cell $i$ from cell $j$. If we then subtract the off diagonal elements from 1 (i.e. $1-\\sum\\limits_{j}{\\matrix{E}_{i,j}}$)\n",
    "you would have the total probability that a particle enters cell $i$ from an adjacent cell.\n",
    "\n",
    "So we may construct a transition matrix as:\n",
    "\n",
    "$$\\matrix{A}_{i,j}=\\begin{cases} \n",
    "      \\matrix{E}_{i,j} & i \\neq j \\\\ \n",
    "      1-\\sum\\limits_{k}{\\matrix{E}_{i,k}} & i = j\n",
    "   \\end{cases}$$\n",
    "\n",
    "The transpose of this matrix, $\\matrix{A}^T$ would then essentially describe the probability of transitioning from cell $j$ into cell $i$ for off diagonal entries, while the diagonal would describe the probability of remaining within cell $i$.\n",
    "\n",
    "We then seek an equilibrium distribtuion $\\bar{\\pi}$ such that $\\matrix{A}^T\\bar{\\pi}=\\bar{\\pi}$ where $\\pi_i$ is the equilibrium probability of being in cell $i$ (and thus $\\sum\\limits_{i}{\\pi_i}=1$).\n",
    "\n",
    "This translates to the problem of finding an eigenvector ($\\bar{\\pi}$) of $\\matrix{A}^T$ for which the corresponding eigenvalue is 1. In the case of a proper transition matrix this should be the dominant eigenvector.\n",
    "\n",
    "Once we have the equilibrium distribution $\\bar{\\pi}$, we then calculate the pmf as $G_i=-k_bT\\ln{\\pi_i}$\n",
    "\n",
    "Next, we wish to find the mean first pass time (MFPT).\n",
    "\n",
    "Unlike the escape matrix, which is based on transitions from the central cell to adjoining cells, MFPT requires counting the total time that a given edge was last passed through, which we will track with a matrix $\\matrix{R}$ where $\\matrix{R}_{i,j}$ is equal to the percentage of time that edge $j$ was the last edge crossed for window $i$ divided by the total time spent in window $i$\n",
    "\n",
    "Fortunately, this can be accomplished in a very similar manner for the 1D case.\n",
    "\n",
    "We first bin the coordinate data, then compute a set of vectors \n",
    "    1. binVec - X_Index+1 for current window (needs the plus 1 since we need to have bin indices start a 1 so that we can use 0 in boolean operations)\n",
    "    2. binC - tells us whether or not the coordinate is in the current window bin\n",
    "    3. binT - tells us when the coordinate moves into a cell that is not the current window cell\n",
    "    \n",
    "The above vectors are computed in the same manner as was done for the escape matrix.\n",
    "\n",
    "Next, we use itertools.groupby to compute 'runs' in binT, excluding frames that are not either in the current window bin or in the process of transitioning out of it. This gives us back a 2D array. The first column is either a 0 when the coordinate is inside the window bin or else it is the id of the non-window bin that the coordinate was last in. The second column is a count of the number of contiguous frames that the value in the first column was observed. Note that this will always be 1 for non-zero entries due to our definition of binT.\n",
    "This means that whenever we see a 0 in the first column, we can use the previous entry of the first column to tell us which edge we just came from. We will call this array $\\bar{r}$\n",
    "\n",
    "Thus to compute the entries of the edge crossing period array $\\bar{R}$ we loop over the rows of $\\bar{r}$ for window $i$ and when $\\bar{r}_{k,0}=0$ we set $\\bar{R}_{\\bar{r}_{k,0}}=\\bar{R}_{\\bar{r}_{k,0}}+\\bar{r}_{k,1}$.\n",
    "After we are done, we then normalize $\\bar{R}$ by dividing by $\\sum\\limits_{k}{binC_k}$\n",
    "\n",
    "The procedure discussed above, for computing the transition matrix $\\matrix{E}$, and its corresponding equilibrium distribution $\\bar\\pi$ and the edge crossing periods $\\matrix{R}$ amongst the milestoning windows, is implemented by the function 'analyze_milestone1D_data' in the python source file 'analysis_functions.py'"
   ]
  },
  {
   "cell_type": "code",
   "execution_count": 202,
   "metadata": {},
   "outputs": [
    {
     "data": {
      "text/plain": [
       "<module 'analysis_functions' from 'analysis_functions.py'>"
      ]
     },
     "execution_count": 202,
     "metadata": {},
     "output_type": "execute_result"
    }
   ],
   "source": [
    "reload(analysis_functions)"
   ]
  },
  {
   "cell_type": "code",
   "execution_count": 104,
   "metadata": {},
   "outputs": [
    {
     "name": "stdout",
     "output_type": "stream",
     "text": [
      "--- --- ---\n",
      "escapeMatrix entry for window 0:\n",
      "[0.00000, 0.05431, 0.00000, 0.00000]\n",
      "Number of crossings (left-to-right,right-to-left): (0,0)\n",
      "--- --- ---\n",
      "escapeMatrix entry for window 1:\n",
      "[0.02888, 0.00000, 0.03209, 0.00000]\n",
      "Number of crossings (left-to-right,right-to-left): (7,8)\n",
      "--- --- ---\n",
      "escapeMatrix entry for window 2:\n",
      "[0.00000, 0.01925, 0.00000, 0.04492]\n",
      "Number of crossings (left-to-right,right-to-left): (7,7)\n",
      "--- --- ---\n",
      "escapeMatrix entry for window 3:\n",
      "[0.00000, 0.00000, 0.01114, 0.00000]\n",
      "Number of crossings (left-to-right,right-to-left): (0,0)\n",
      "--- --- ---\n",
      "Eigenvalues: [1.         0.98402128 0.93246419 0.89292286]\n"
     ]
    },
    {
     "data": {
      "image/png": "[encoded data removed]",
      "text/plain": [
       "<Figure size 432x288 with 1 Axes>"
      ]
     },
     "metadata": {
      "needs_background": "light"
     },
     "output_type": "display_data"
    },
    {
     "name": "stdout",
     "output_type": "stream",
     "text": [
      "Equilibrium distribution:  ['  0.0536', '  0.1008', '  0.1681', '  0.6775']\n",
      "Edge transition vector:    ['  0.0955', '  0.0879', '  0.6248']\n",
      "bin crossing frequencies [binIndex,[left-right, right-left]]\n",
      "[['1' '[  0.000000,   0.000000]']\n",
      " ['2' '[  0.007487,   0.008556]']\n",
      " ['3' '[  0.007487,   0.007487]']\n",
      " ['4' '[  0.000000,   0.000000]']]\n",
      "bin counts: [939. 935. 935. 987.]\n",
      "tau values: [ 107.66164133    8.83582775 -116.49746908]\n"
     ]
    }
   ],
   "source": [
    "outNames=[\"escapeMat\",\"piVec\",\"rMat\",\"crossArray\",\"countsVec\",\"Ri\",\"NijMat\",\"Qmat\",\"Qrows\",\"tauVec\"]\n",
    "milestoneResults=dict(\n",
    "    zip(outNames,\n",
    "        analysis_functions.analyze_milestone1D_data(\n",
    "            simData,winMins,winMaxs,verbose=True)))\n",
    "\n",
    "plt.imshow(milestoneResults[\"escapeMat\"])\n",
    "plt.title('Escape Matrix')\n",
    "plt.show()\n",
    "\n",
    "print 'Equilibrium distribution: ',\n",
    "print map(lambda x: '%8.4f'%x,milestoneResults[\"piVec\"])\n",
    "print 'Edge transition vector:   ',\n",
    "print map(lambda x: '%8.4f'%x,milestoneResults[\"Ri\"])\n",
    "print \"bin crossing frequencies [binIndex,[left-right, right-left]]\"\n",
    "print np.array([[iVals+1,\n",
    "                 '['+', '.join(map(lambda x: '%10.6f'%x,\n",
    "                                   vals/milestoneResults[\"countsVec\"][iVals]))+\\\n",
    "                 ']'] \\\n",
    "                for iVals,vals in enumerate(milestoneResults[\"crossArray\"])])\n",
    "print \"bin counts:\",\n",
    "print milestoneResults[\"countsVec\"]\n",
    "print \"tau values:\",\n",
    "print milestoneResults[\"tauVec\"][0]"
   ]
  },
  {
   "cell_type": "markdown",
   "metadata": {},
   "source": [
    "Using the equilibrium probabilities we may recover the effective potential (PMF) over the milestoning windows as\n",
    "\n",
    "$$\\Delta G_i=-k_bT\\ln{\\pi_i}$$\n",
    "\n",
    "Note: we subtract off the maximum observed energy to serve a reference potential."
   ]
  },
  {
   "cell_type": "code",
   "execution_count": 168,
   "metadata": {},
   "outputs": [
    {
     "name": "stdout",
     "output_type": "stream",
     "text": [
      "Equilibrium Distribution: [0.05361863 0.1008482  0.16808034 0.67745283]\n",
      "PMF (kcal/mol): [1.5117202  1.13521519 0.83076312 0.        ]\n"
     ]
    },
    {
     "data": {
      "image/png": "[encoded data removed]",
      "text/plain": [
       "<Figure size 432x288 with 1 Axes>"
      ]
     },
     "metadata": {
      "needs_background": "light"
     },
     "output_type": "display_data"
    },
    {
     "name": "stdout",
     "output_type": "stream",
     "text": [
      "--- --- ---\n",
      "Tau Entries (ps): [-116.49746908    8.83582775  107.66164133]\n"
     ]
    },
    {
     "data": {
      "image/png": "[encoded data removed]",
      "text/plain": [
       "<Figure size 432x288 with 1 Axes>"
      ]
     },
     "metadata": {
      "needs_background": "light"
     },
     "output_type": "display_data"
    }
   ],
   "source": [
    "kbT=0.596 #boltzmann constant times temperature (300 K) in kcal/mol\n",
    "gEq=-kbT*np.log(milestoneResults['piVec'])\n",
    "print \"Equilibrium Distribution:\",\n",
    "print milestoneResults['piVec']\n",
    "print \"PMF (kcal/mol):\",\n",
    "print gEq-np.min(gEq)\n",
    "\n",
    "for edgeX in np.unique(np.concatenate([winMins,winMaxs])[1:-1]):\n",
    "    plt.axvline(edgeX,c='r')\n",
    "plt.plot(windowCenters,gEq-np.min(gEq))\n",
    "plt.scatter(windowCenters,gEq-np.min(gEq))\n",
    "plt.xlabel('Restraint Z-Coordinate (angstroms)')\n",
    "plt.ylabel('Relative Free Energy (kcal/mol)')\n",
    "plt.title('Milestoning PMF')\n",
    "plt.show()\n",
    "dts=500*.002\n",
    "taus=milestoneResults[\"tauVec\"][0]\n",
    "tt1=taus[np.argsort(taus)]\n",
    "print '--- --- ---'\n",
    "print \"Tau Entries (ps):\",\n",
    "print tt1\n",
    "#plt.plot(tt1*dts)\n",
    "#plt.scatter(np.arange(len(tt1)),tt1*dts)\n",
    "#plt.xlabel('Milestone Edge Index')\n",
    "#plt.ylabel('Tau Entry (ps)')\n",
    "#plt.show()\n",
    "\n",
    "tau=tt1*dts\n",
    "tau2=tau-tt1[0]\n",
    "plt.plot(winMaxs[:-1],tau2)\n",
    "plt.scatter(winMaxs[:-1],tau2)\n",
    "plt.title('Mean First Passage Time')\n",
    "plt.xlabel('Restraint Z-Coordinate (angstroms)')\n",
    "plt.ylabel('Time (ps)')\n",
    "plt.show()"
   ]
  },
  {
   "cell_type": "markdown",
   "metadata": {},
   "source": [
    "One important detail to consider now is how well our results have converged.\n",
    "A good check for this is to look at the convergence of the escape matrix entries over the trajectory.\n",
    "\n",
    "To that end we will use the function 'compute_escape_matrix_row_convergence'\n",
    "\n",
    "This will take a data frame (or data series) of the 'X_Index' for a given window and will return a dictionary containing entries for the cumulative means of the escape matrix entries for that window.\n",
    "These are labeled as \"nu(i,j)\"\n",
    "\n",
    "to start, lets use an interactive approach and look at the windows."
   ]
  },
  {
   "cell_type": "code",
   "execution_count": 191,
   "metadata": {},
   "outputs": [],
   "source": [
    "def compute_escape_matrix_row_convergence(windowIndexData):\n",
    "    indVec=np.array(windowIndexData['X_Index'])\n",
    "    windowC=indVec[0]\n",
    "    #need to make sure that all oberved indices are above 0\n",
    "    dInd=0\n",
    "    if np.min(indVec)<=0:\n",
    "        dInd=1-np.min(indVec)\n",
    "        windowC=windowC+dInd\n",
    "        indVec=indVec+dInd\n",
    "    \n",
    "    binSet=np.unique(indVec)\n",
    "    countTrajDict={}\n",
    "    \n",
    "    binC=(indVec==windowC)\n",
    "    binT=(1-binC[1:])*binC[:-1]*indVec[1:]\n",
    "    \n",
    "    countTrajDict[windowC]=np.cumsum(binC[1:]+(binT>0))\n",
    "    for binInd in binSet:\n",
    "        if not (binInd==windowC):\n",
    "            countTrajDict[binInd]=np.cumsum(binT==binInd)\n",
    "    \n",
    "    cumMeanDict={}\n",
    "    for binInd in countTrajDict:\n",
    "        if not (binInd==windowC):\n",
    "            cumMeanDict[\n",
    "                    \"nu(%02g,%02g)\"%(windowC-dInd,binInd-dInd)\n",
    "                ]=1.0*countTrajDict[binInd]/countTrajDict[windowC]\n",
    "    #print countTrajDict\n",
    "    return cumMeanDict"
   ]
  },
  {
   "cell_type": "code",
   "execution_count": 194,
   "metadata": {},
   "outputs": [
    {
     "data": {
      "application/vnd.jupyter.widget-view+json": {
       "model_id": "885d51c75d984cdf8f7b3933a97b8121",
       "version_major": 2,
       "version_minor": 0
      },
      "text/plain": [
       "aW50ZXJhY3RpdmUoY2hpbGRyZW49KERyb3Bkb3duKGRlc2NyaXB0aW9uPXUnd2luZG93Jywgb3B0aW9ucz0oMCwgMSwgMiwgMyksIHZhbHVlPTApLCBPdXRwdXQoKSksIF9kb21fY2xhc3Nlcz3igKY=\n"
      ]
     },
     "metadata": {},
     "output_type": "display_data"
    }
   ],
   "source": [
    "@interact\n",
    "def plot_transition_probability_matrix_entry_convergence(window=simData.Window.unique()):\n",
    "    winMins=restData.W2L_r2\n",
    "    winMaxs=restData.W2L_r3\n",
    "    windowCenters=(winMins+winMaxs)/2.0\n",
    "    rowData=simData[simData.Window==window]\n",
    "    binEdges=winMins[1:] #np.concatenate([winMins,[winMaxs[-1]]])\n",
    "    digitize_kwds={\"bins\":binEdges}\n",
    "    rowData['X_Index']=rowData.X.apply(np.digitize,**digitize_kwds)\n",
    "    convergenceDict=compute_escape_matrix_row_convergence(rowData)\n",
    "    plt.figure(figsize=(9,9))\n",
    "    for transEntry in convergenceDict:\n",
    "        plt.plot(convergenceDict[transEntry],\n",
    "                 label=transEntry)\n",
    "    plt.xlabel('Frame')\n",
    "    plt.ylabel('Probability of Escape')\n",
    "    plt.legend()\n",
    "    plt.show()    "
   ]
  },
  {
   "cell_type": "code",
   "execution_count": 199,
   "metadata": {},
   "outputs": [
    {
     "name": "stderr",
     "output_type": "stream",
     "text": [
      "/Users/wbotellosmith/anaconda2/lib/python2.7/site-packages/ipykernel_launcher.py:9: SettingWithCopyWarning: \n",
      "A value is trying to be set on a copy of a slice from a DataFrame.\n",
      "Try using .loc[row_indexer,col_indexer] = value instead\n",
      "\n",
      "See the caveats in the documentation: http://pandas.pydata.org/pandas-docs/stable/indexing.html#indexing-view-versus-copy\n",
      "  if __name__ == '__main__':\n"
     ]
    },
    {
     "data": {
      "text/plain": [
       "[]"
      ]
     },
     "execution_count": 199,
     "metadata": {},
     "output_type": "execute_result"
    },
    {
     "data": {
      "image/png": "[encoded data removed]",
      "text/plain": [
       "<Figure size 864x576 with 6 Axes>"
      ]
     },
     "metadata": {
      "needs_background": "light"
     },
     "output_type": "display_data"
    }
   ],
   "source": [
    "convergencePlotDataDict={}\n",
    "for window in simData.Window.unique():\n",
    "    winMins=restData.W2L_r2\n",
    "    winMaxs=restData.W2L_r3\n",
    "    windowCenters=(winMins+winMaxs)/2.0\n",
    "    rowData=simData[simData.Window==window]\n",
    "    binEdges=winMins[1:] #np.concatenate([winMins,[winMaxs[-1]]])\n",
    "    digitize_kwds={\"bins\":binEdges}\n",
    "    rowData['X_Index']=rowData.X.apply(np.digitize,**digitize_kwds)\n",
    "    convergenceDict=compute_escape_matrix_row_convergence(rowData)\n",
    "    for entry in convergenceDict:\n",
    "        convergencePlotDataDict[entry]=convergenceDict[entry]\n",
    "\n",
    "nEntries=len(convergencePlotDataDict)\n",
    "nY=int(np.ceil(np.sqrt(nEntries)))\n",
    "nX=int(np.ceil(nEntries/nY))\n",
    "fig,axs=plt.subplots(nX,nY)\n",
    "fig.set_figwidth(12)\n",
    "fig.set_figheight(12/nY*nX)\n",
    "for iEntry,entry in enumerate(convergencePlotDataDict):\n",
    "    ax=axs.flat[iEntry]\n",
    "    ax.plot(convergencePlotDataDict[entry])\n",
    "    ax.set_xlabel('Frame')\n",
    "    ax.set_ylabel('Escape Probability')\n",
    "    ax.set_title(entry)\n",
    "plt.tight_layout()\n",
    "plt.plot()"
   ]
  },
  {
   "cell_type": "code",
   "execution_count": 200,
   "metadata": {},
   "outputs": [
    {
     "data": {
      "text/html": [
       "<div>\n",
       "<style scoped>\n",
       "    .dataframe tbody tr th:only-of-type {\n",
       "        vertical-align: middle;\n",
       "    }\n",
       "\n",
       "    .dataframe tbody tr th {\n",
       "        vertical-align: top;\n",
       "    }\n",
       "\n",
       "    .dataframe thead th {\n",
       "        text-align: right;\n",
       "    }\n",
       "</style>\n",
       "<table border=\"1\" class=\"dataframe\">\n",
       "  <thead>\n",
       "    <tr style=\"text-align: right;\">\n",
       "      <th></th>\n",
       "      <th>Window</th>\n",
       "      <th>Time</th>\n",
       "      <th>X</th>\n",
       "    </tr>\n",
       "  </thead>\n",
       "  <tbody>\n",
       "    <tr>\n",
       "      <th>0</th>\n",
       "      <td>0</td>\n",
       "      <td>0</td>\n",
       "      <td>15.195</td>\n",
       "    </tr>\n",
       "    <tr>\n",
       "      <th>1</th>\n",
       "      <td>0</td>\n",
       "      <td>500</td>\n",
       "      <td>14.744</td>\n",
       "    </tr>\n",
       "    <tr>\n",
       "      <th>2</th>\n",
       "      <td>0</td>\n",
       "      <td>1000</td>\n",
       "      <td>14.688</td>\n",
       "    </tr>\n",
       "    <tr>\n",
       "      <th>3</th>\n",
       "      <td>0</td>\n",
       "      <td>1500</td>\n",
       "      <td>14.631</td>\n",
       "    </tr>\n",
       "    <tr>\n",
       "      <th>4</th>\n",
       "      <td>0</td>\n",
       "      <td>2000</td>\n",
       "      <td>14.230</td>\n",
       "    </tr>\n",
       "  </tbody>\n",
       "</table>\n",
       "</div>"
      ],
      "text/plain": [
       "   Window  Time       X\n",
       "0       0     0  15.195\n",
       "1       0   500  14.744\n",
       "2       0  1000  14.688\n",
       "3       0  1500  14.631\n",
       "4       0  2000  14.230"
      ]
     },
     "execution_count": 200,
     "metadata": {},
     "output_type": "execute_result"
    }
   ],
   "source": [
    "simData.head()"
   ]
  },
  {
   "cell_type": "code",
   "execution_count": 201,
   "metadata": {},
   "outputs": [
    {
     "data": {
      "text/html": [
       "<div>\n",
       "<style scoped>\n",
       "    .dataframe tbody tr th:only-of-type {\n",
       "        vertical-align: middle;\n",
       "    }\n",
       "\n",
       "    .dataframe tbody tr th {\n",
       "        vertical-align: top;\n",
       "    }\n",
       "\n",
       "    .dataframe thead th {\n",
       "        text-align: right;\n",
       "    }\n",
       "</style>\n",
       "<table border=\"1\" class=\"dataframe\">\n",
       "  <thead>\n",
       "    <tr style=\"text-align: right;\">\n",
       "      <th></th>\n",
       "      <th>Window</th>\n",
       "      <th>Time</th>\n",
       "      <th>X</th>\n",
       "      <th>X_Index</th>\n",
       "    </tr>\n",
       "  </thead>\n",
       "  <tbody>\n",
       "    <tr>\n",
       "      <th>0</th>\n",
       "      <td>0</td>\n",
       "      <td>0</td>\n",
       "      <td>15.195</td>\n",
       "      <td>0</td>\n",
       "    </tr>\n",
       "    <tr>\n",
       "      <th>1</th>\n",
       "      <td>0</td>\n",
       "      <td>500</td>\n",
       "      <td>14.744</td>\n",
       "      <td>0</td>\n",
       "    </tr>\n",
       "    <tr>\n",
       "      <th>2</th>\n",
       "      <td>0</td>\n",
       "      <td>1000</td>\n",
       "      <td>14.688</td>\n",
       "      <td>0</td>\n",
       "    </tr>\n",
       "    <tr>\n",
       "      <th>3</th>\n",
       "      <td>0</td>\n",
       "      <td>1500</td>\n",
       "      <td>14.631</td>\n",
       "      <td>0</td>\n",
       "    </tr>\n",
       "    <tr>\n",
       "      <th>4</th>\n",
       "      <td>0</td>\n",
       "      <td>2000</td>\n",
       "      <td>14.230</td>\n",
       "      <td>0</td>\n",
       "    </tr>\n",
       "  </tbody>\n",
       "</table>\n",
       "</div>"
      ],
      "text/plain": [
       "   Window  Time       X  X_Index\n",
       "0       0     0  15.195        0\n",
       "1       0   500  14.744        0\n",
       "2       0  1000  14.688        0\n",
       "3       0  1500  14.631        0\n",
       "4       0  2000  14.230        0"
      ]
     },
     "execution_count": 201,
     "metadata": {},
     "output_type": "execute_result"
    }
   ],
   "source": [
    "binArgs={'bins':winMins[1:]}\n",
    "simData['X_Index']=simData.X.apply(np.digitize,**binArgs)\n",
    "simData.head()"
   ]
  },
  {
   "cell_type": "code",
   "execution_count": 203,
   "metadata": {},
   "outputs": [
    {
     "name": "stdout",
     "output_type": "stream",
     "text": [
      "--- --- ---\n",
      "escapeMatrix entry for window 0:\n",
      "[0.00000, 0.05431, 0.00000, 0.00000]\n",
      "Number of crossings (left-to-right,right-to-left): (0,0)\n",
      "--- --- ---\n",
      "escapeMatrix entry for window 1:\n",
      "[0.02888, 0.00000, 0.03209, 0.00000]\n",
      "Number of crossings (left-to-right,right-to-left): (7,8)\n",
      "--- --- ---\n",
      "escapeMatrix entry for window 2:\n",
      "[0.00000, 0.01925, 0.00000, 0.04492]\n",
      "Number of crossings (left-to-right,right-to-left): (7,7)\n",
      "--- --- ---\n",
      "escapeMatrix entry for window 3:\n",
      "[0.00000, 0.00000, 0.01114, 0.00000]\n",
      "Number of crossings (left-to-right,right-to-left): (0,0)\n",
      "--- --- ---\n",
      "Eigenvalues: [1.         0.98402128 0.93246419 0.89292286]\n"
     ]
    },
    {
     "data": {
      "image/png": "[encoded data removed]",
      "text/plain": [
       "<Figure size 432x288 with 1 Axes>"
      ]
     },
     "metadata": {
      "needs_background": "light"
     },
     "output_type": "display_data"
    },
    {
     "name": "stdout",
     "output_type": "stream",
     "text": [
      "Equilibrium distribution:  ['  0.0536', '  0.1008', '  0.1681', '  0.6775']\n",
      "Edge transition vector:    ['  0.0955', '  0.0879', '  0.6248']\n",
      "bin crossing frequencies [binIndex,[left-right, right-left]]\n",
      "[['1' '[  0.000000,   0.000000]']\n",
      " ['2' '[  0.007487,   0.008556]']\n",
      " ['3' '[  0.007487,   0.007487]']\n",
      " ['4' '[  0.000000,   0.000000]']]\n",
      "bin counts: [939. 935. 935. 987.]\n",
      "tau values: [ 107.66164133    8.83582775 -116.49746908]\n"
     ]
    }
   ],
   "source": [
    "outNames=[\"escapeMat\",\"piVec\",\"rMat\",\"crossArray\",\"countsVec\",\"Ri\",\"NijMat\",\"Qmat\",\"Qrows\",\"tauVec\"]\n",
    "milestoneResults=dict(\n",
    "    zip(outNames,\n",
    "        analysis_functions.analyze_milestone1D_data(\n",
    "            simData,winMins,winMaxs,verbose=True,useInds=True)))\n",
    "\n",
    "plt.imshow(milestoneResults[\"escapeMat\"])\n",
    "plt.title('Escape Matrix')\n",
    "plt.show()\n",
    "\n",
    "print 'Equilibrium distribution: ',\n",
    "print map(lambda x: '%8.4f'%x,milestoneResults[\"piVec\"])\n",
    "print 'Edge transition vector:   ',\n",
    "print map(lambda x: '%8.4f'%x,milestoneResults[\"Ri\"])\n",
    "print \"bin crossing frequencies [binIndex,[left-right, right-left]]\"\n",
    "print np.array([[iVals+1,\n",
    "                 '['+', '.join(map(lambda x: '%10.6f'%x,\n",
    "                                   vals/milestoneResults[\"countsVec\"][iVals]))+\\\n",
    "                 ']'] \\\n",
    "                for iVals,vals in enumerate(milestoneResults[\"crossArray\"])])\n",
    "print \"bin counts:\",\n",
    "print milestoneResults[\"countsVec\"]\n",
    "print \"tau values:\",\n",
    "print milestoneResults[\"tauVec\"][0]"
   ]
  },
  {
   "cell_type": "code",
   "execution_count": null,
   "metadata": {},
   "outputs": [],
   "source": []
  }
 ],
 "metadata": {
  "kernelspec": {
   "display_name": "Python 2",
   "language": "python",
   "name": "python2"
  },
  "language_info": {
   "codemirror_mode": {
    "name": "ipython",
    "version": 2
   },
   "file_extension": ".py",
   "mimetype": "text/x-python",
   "name": "python",
   "nbconvert_exporter": "python",
   "pygments_lexer": "ipython2",
   "version": "2.7.15"
  }
 },
 "nbformat": 4,
 "nbformat_minor": 2
}
