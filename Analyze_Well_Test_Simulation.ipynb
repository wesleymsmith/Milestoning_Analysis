{
 "cells": [
  {
   "cell_type": "code",
   "execution_count": 250,
   "metadata": {},
   "outputs": [],
   "source": [
    "import numpy as np\n",
    "import pandas as pd\n",
    "import matplotlib\n",
    "from matplotlib import pyplot as plt\n",
    "import tqdm\n",
    "import copy\n",
    "import gc\n",
    "\n",
    "import bokeh\n",
    "from bokeh.layouts import gridplot\n",
    "from bokeh.models import ColumnDataSource, CDSView, GroupFilter, HoverTool\n",
    "from bokeh.plotting import figure, show\n",
    "from bokeh.transform import factor_cmap\n",
    "from bokeh.palettes import Spectral11\n",
    "\n",
    "from bokeh.models.mappers import CategoricalColorMapper\n",
    "\n",
    "import ipywidgets as widgets\n",
    "from ipywidgets import interact, interact_manual\n",
    "\n",
    "import scipy as sp\n",
    "from scipy.sparse import linalg"
   ]
  },
  {
   "cell_type": "markdown",
   "metadata": {},
   "source": [
    "First we import the data from the test simulations"
   ]
  },
  {
   "cell_type": "code",
   "execution_count": 159,
   "metadata": {},
   "outputs": [
    {
     "data": {
      "text/html": [
       "<div>\n",
       "<style scoped>\n",
       "    .dataframe tbody tr th:only-of-type {\n",
       "        vertical-align: middle;\n",
       "    }\n",
       "\n",
       "    .dataframe tbody tr th {\n",
       "        vertical-align: top;\n",
       "    }\n",
       "\n",
       "    .dataframe thead th {\n",
       "        text-align: right;\n",
       "    }\n",
       "</style>\n",
       "<table border=\"1\" class=\"dataframe\">\n",
       "  <thead>\n",
       "    <tr style=\"text-align: right;\">\n",
       "      <th></th>\n",
       "      <th>Window</th>\n",
       "      <th>Frame</th>\n",
       "      <th>Time</th>\n",
       "      <th>X</th>\n",
       "      <th>V</th>\n",
       "      <th>F</th>\n",
       "      <th>E</th>\n",
       "    </tr>\n",
       "  </thead>\n",
       "  <tbody>\n",
       "    <tr>\n",
       "      <th>0</th>\n",
       "      <td>0</td>\n",
       "      <td>499</td>\n",
       "      <td>0.499</td>\n",
       "      <td>-4.194121</td>\n",
       "      <td>0.169740</td>\n",
       "      <td>0.131066</td>\n",
       "      <td>0.582288</td>\n",
       "    </tr>\n",
       "    <tr>\n",
       "      <th>1</th>\n",
       "      <td>0</td>\n",
       "      <td>999</td>\n",
       "      <td>0.999</td>\n",
       "      <td>-4.275652</td>\n",
       "      <td>-0.031547</td>\n",
       "      <td>0.390135</td>\n",
       "      <td>0.575607</td>\n",
       "    </tr>\n",
       "    <tr>\n",
       "      <th>2</th>\n",
       "      <td>0</td>\n",
       "      <td>1499</td>\n",
       "      <td>1.499</td>\n",
       "      <td>-4.167321</td>\n",
       "      <td>-0.190520</td>\n",
       "      <td>0.130229</td>\n",
       "      <td>0.583354</td>\n",
       "    </tr>\n",
       "    <tr>\n",
       "      <th>3</th>\n",
       "      <td>0</td>\n",
       "      <td>1999</td>\n",
       "      <td>1.999</td>\n",
       "      <td>-3.959980</td>\n",
       "      <td>-0.298505</td>\n",
       "      <td>0.123749</td>\n",
       "      <td>0.590011</td>\n",
       "    </tr>\n",
       "    <tr>\n",
       "      <th>4</th>\n",
       "      <td>0</td>\n",
       "      <td>2499</td>\n",
       "      <td>2.499</td>\n",
       "      <td>-3.670802</td>\n",
       "      <td>-0.304773</td>\n",
       "      <td>-0.677272</td>\n",
       "      <td>0.558500</td>\n",
       "    </tr>\n",
       "  </tbody>\n",
       "</table>\n",
       "</div>"
      ],
      "text/plain": [
       "   Window  Frame   Time         X         V         F         E\n",
       "0       0    499  0.499 -4.194121  0.169740  0.131066  0.582288\n",
       "1       0    999  0.999 -4.275652 -0.031547  0.390135  0.575607\n",
       "2       0   1499  1.499 -4.167321 -0.190520  0.130229  0.583354\n",
       "3       0   1999  1.999 -3.959980 -0.298505  0.123749  0.590011\n",
       "4       0   2499  2.499 -3.670802 -0.304773 -0.677272  0.558500"
      ]
     },
     "execution_count": 159,
     "metadata": {},
     "output_type": "execute_result"
    }
   ],
   "source": [
    "simDataTable=pd.read_csv(\"Test_Simulation_Milestoning_Data.csv\")\n",
    "simDataTable.head()"
   ]
  },
  {
   "cell_type": "markdown",
   "metadata": {},
   "source": [
    "Now we need to bin the coordinate data.\n",
    "For this we need to know the window bounds"
   ]
  },
  {
   "cell_type": "code",
   "execution_count": 160,
   "metadata": {},
   "outputs": [],
   "source": [
    "windowWidth=.5\n",
    "windowK=10.0\n",
    "windowCenters=np.arange(-8,9)*windowWidth\n",
    "winMaxs=windowCenters+windowWidth/2.0\n",
    "winMins=windowCenters-windowWidth/2.0"
   ]
  },
  {
   "cell_type": "markdown",
   "metadata": {},
   "source": [
    "For the one dimensional case, assingin bin indices can be easily accomplished by the numpy command 'digitize'\n",
    "\n",
    "The example below illustartes this.\n",
    "\n",
    "Note that we need two additional 'bins'.\n",
    "Bin zero will account for anything to the left of the leftmost window edge and the last bin will capture anything to the right of the rightmost window edge.\n",
    "\n",
    "We then use didgitize to apply this bin indexing to an array of numbers from -5 to 5 spaced .25 units apart."
   ]
  },
  {
   "cell_type": "code",
   "execution_count": 161,
   "metadata": {},
   "outputs": [
    {
     "name": "stdout",
     "output_type": "stream",
     "text": [
      "[(1, (-4.25, -3.75)), (2, (-3.75, -3.25)), (3, (-3.25, -2.75)), (4, (-2.75, -2.25)), (5, (-2.25, -1.75)), (6, (-1.75, -1.25)), (7, (-1.25, -0.75)), (8, (-0.75, -0.25)), (9, (-0.25, 0.25)), (10, (0.25, 0.75)), (11, (0.75, 1.25)), (12, (1.25, 1.75)), (13, (1.75, 2.25)), (14, (2.25, 2.75)), (15, (2.75, 3.25)), (16, (3.25, 3.75)), (17, (3.75, 4.25))]\n",
      "[(-5.0, 0), (-4.75, 0), (-4.5, 0), (-4.25, 1), (-4.0, 1), (-3.75, 2), (-3.5, 2), (-3.25, 3), (-3.0, 3), (-2.75, 4), (-2.5, 4), (-2.25, 5), (-2.0, 5), (-1.75, 6), (-1.5, 6), (-1.25, 7), (-1.0, 7), (-0.75, 8), (-0.5, 8), (-0.25, 9), (0.0, 9), (0.25, 10), (0.5, 10), (0.75, 11), (1.0, 11), (1.25, 12), (1.5, 12), (1.75, 13), (2.0, 13), (2.25, 14), (2.5, 14), (2.75, 15), (3.0, 15), (3.25, 16), (3.5, 16), (3.75, 17), (4.0, 17), (4.25, 18), (4.5, 18), (4.75, 18), (5.0, 18)]\n"
     ]
    }
   ],
   "source": [
    "xvals=np.arange(-20,21)*.25\n",
    "print zip(np.arange(len(windowCenters))+1,zip(winMins,winMaxs))\n",
    "print zip(xvals,np.digitize(xvals,bins=np.concatenate([winMins,[winMaxs[-1]]])))"
   ]
  },
  {
   "cell_type": "markdown",
   "metadata": {},
   "source": [
    "We can now use the above procedure to bin our X coordinate data for each window.\n",
    "\n",
    "We can make use of digitize as above. We note that if you give digitize N bin edges, it will give you N+1 bins. Also, by default it assumes the edges are the left hand sides of each bin.\n",
    "\n",
    "This means:\n",
    "    1. We want to give nWindows-1 bin edges\n",
    "    2. We want to give it the window minima (left hand edges)"
   ]
  },
  {
   "cell_type": "code",
   "execution_count": 222,
   "metadata": {},
   "outputs": [
    {
     "data": {
      "text/html": [
       "<div>\n",
       "<style scoped>\n",
       "    .dataframe tbody tr th:only-of-type {\n",
       "        vertical-align: middle;\n",
       "    }\n",
       "\n",
       "    .dataframe tbody tr th {\n",
       "        vertical-align: top;\n",
       "    }\n",
       "\n",
       "    .dataframe thead th {\n",
       "        text-align: right;\n",
       "    }\n",
       "</style>\n",
       "<table border=\"1\" class=\"dataframe\">\n",
       "  <thead>\n",
       "    <tr style=\"text-align: right;\">\n",
       "      <th></th>\n",
       "      <th>Window</th>\n",
       "      <th>Frame</th>\n",
       "      <th>Time</th>\n",
       "      <th>X</th>\n",
       "      <th>V</th>\n",
       "      <th>F</th>\n",
       "      <th>E</th>\n",
       "      <th>X_Index</th>\n",
       "    </tr>\n",
       "  </thead>\n",
       "  <tbody>\n",
       "    <tr>\n",
       "      <th>0</th>\n",
       "      <td>0</td>\n",
       "      <td>499</td>\n",
       "      <td>0.499</td>\n",
       "      <td>-4.194121</td>\n",
       "      <td>0.169740</td>\n",
       "      <td>0.131066</td>\n",
       "      <td>0.582288</td>\n",
       "      <td>0</td>\n",
       "    </tr>\n",
       "    <tr>\n",
       "      <th>1</th>\n",
       "      <td>0</td>\n",
       "      <td>999</td>\n",
       "      <td>0.999</td>\n",
       "      <td>-4.275652</td>\n",
       "      <td>-0.031547</td>\n",
       "      <td>0.390135</td>\n",
       "      <td>0.575607</td>\n",
       "      <td>0</td>\n",
       "    </tr>\n",
       "    <tr>\n",
       "      <th>2</th>\n",
       "      <td>0</td>\n",
       "      <td>1499</td>\n",
       "      <td>1.499</td>\n",
       "      <td>-4.167321</td>\n",
       "      <td>-0.190520</td>\n",
       "      <td>0.130229</td>\n",
       "      <td>0.583354</td>\n",
       "      <td>0</td>\n",
       "    </tr>\n",
       "    <tr>\n",
       "      <th>3</th>\n",
       "      <td>0</td>\n",
       "      <td>1999</td>\n",
       "      <td>1.999</td>\n",
       "      <td>-3.959980</td>\n",
       "      <td>-0.298505</td>\n",
       "      <td>0.123749</td>\n",
       "      <td>0.590011</td>\n",
       "      <td>0</td>\n",
       "    </tr>\n",
       "    <tr>\n",
       "      <th>4</th>\n",
       "      <td>0</td>\n",
       "      <td>2499</td>\n",
       "      <td>2.499</td>\n",
       "      <td>-3.670802</td>\n",
       "      <td>-0.304773</td>\n",
       "      <td>-0.677272</td>\n",
       "      <td>0.558500</td>\n",
       "      <td>1</td>\n",
       "    </tr>\n",
       "  </tbody>\n",
       "</table>\n",
       "</div>"
      ],
      "text/plain": [
       "   Window  Frame   Time         X         V         F         E  X_Index\n",
       "0       0    499  0.499 -4.194121  0.169740  0.131066  0.582288        0\n",
       "1       0    999  0.999 -4.275652 -0.031547  0.390135  0.575607        0\n",
       "2       0   1499  1.499 -4.167321 -0.190520  0.130229  0.583354        0\n",
       "3       0   1999  1.999 -3.959980 -0.298505  0.123749  0.590011        0\n",
       "4       0   2499  2.499 -3.670802 -0.304773 -0.677272  0.558500        1"
      ]
     },
     "execution_count": 222,
     "metadata": {},
     "output_type": "execute_result"
    }
   ],
   "source": [
    "binEdges=winMins[1:] #np.concatenate([winMins,[winMaxs[-1]]])\n",
    "digitize_kwds={\"bins\":binEdges}\n",
    "simDataTable['X_Index']=simDataTable.X.apply(np.digitize,**digitize_kwds)\n",
    "simDataTable.head()"
   ]
  },
  {
   "cell_type": "markdown",
   "metadata": {},
   "source": [
    "Before proceeding, it is a good idea to visualize the results.\n",
    "\n",
    "We can make use of a hand python widget to allow us to easily select a given window to view.\n",
    "\n",
    "The red line shows the actual observed values of $x$\n",
    "\n",
    "The orange dots indicate the window bin that x was assigned into for the given frame.\n",
    "\n",
    "The black horizontal lines indicate the edges of the window bin.\n",
    "\n",
    "An intersting note is that there are no transitions on the negative side of window 0 and no\n",
    "positive side of window 16. This essentially means that we count anything to the right of bin 16's right edge as part of bin 16 and anything to the left of bin 0's left edge as part of bin0"
   ]
  },
  {
   "cell_type": "code",
   "execution_count": 228,
   "metadata": {},
   "outputs": [
    {
     "data": {
      "application/vnd.jupyter.widget-view+json": {
       "model_id": "69b1a537cb104d67977d626c2d2166b9",
       "version_major": 2,
       "version_minor": 0
      },
      "text/plain": [
       "aW50ZXJhY3RpdmUoY2hpbGRyZW49KEludFNsaWRlcih2YWx1ZT04LCBkZXNjcmlwdGlvbj11J3dpbmRvdycsIG1heD0xNiksIE91dHB1dCgpKSwgX2RvbV9jbGFzc2VzPSh1J3dpZGdldC1pbnTigKY=\n"
      ]
     },
     "metadata": {},
     "output_type": "display_data"
    }
   ],
   "source": [
    "@interact\n",
    "def plot_window(window=(simDataTable.Window.min(),simDataTable.Window.max(),1)):\n",
    "    plt.figure(figsize=(12,9))\n",
    "    plt.rcParams['axes.facecolor']='grey'\n",
    "    nWindows=len(simDataTable.Window.unique())\n",
    "    plotData=simDataTable[simDataTable.Window==window]\n",
    "    plt.scatter(plotData.Time,\n",
    "                (plotData.X_Index-(nWindows-1)/2.)*windowWidth,\n",
    "                c='orange',#Spectral11[window%11],\n",
    "                s=4,\n",
    "                label='Window_%02g'%window)\n",
    "    plt.plot(plotData.Time,\n",
    "             plotData.X,\n",
    "             'r',\n",
    "             #Spectral11[window%11],\n",
    "             label='Window_%02g'%window)\n",
    "    plt.plot(plotData.Time,\n",
    "             [winMins[window]]*len(plotData),c='k')\n",
    "    plt.plot(plotData.Time,\n",
    "             [winMaxs[window]]*len(plotData),c='k')\n",
    "    plt.legend()\n",
    "    plt.grid()\n",
    "    plt.show()"
   ]
  },
  {
   "cell_type": "markdown",
   "metadata": {},
   "source": [
    "We are now ready to compute the escape matrix.\n",
    "\n",
    "This is an Nwindow by Nwindow matrix with a diagonal of 0.\n",
    "The off diagonals represent the probability of transitioning form one window to another.\n",
    "\n",
    "I.e.\n",
    "$$M_{i,j}=N_{i->j}/N_{i}$$\n",
    "where $M_{i,j}$ is an element of the escape matrix, $N_{i->j}$ is the number of frames where $x$ is observed in bin $j$ when it was in bin $i$ on the previous frame, and $N_{i}$ is the number of frames where $x$ is observed in bin $i$ as computed from the simulation with the milestoning well for bin $i$"
   ]
  },
  {
   "cell_type": "code",
   "execution_count": 269,
   "metadata": {},
   "outputs": [
    {
     "name": "stdout",
     "output_type": "stream",
     "text": [
      "--- --- ---\n",
      "escapeMatrix entry for window 0:\n",
      "[0.000, 0.177, 0.000, 0.000, 0.000, 0.000, 0.000, 0.000, 0.000, 0.000, 0.000, 0.000, 0.000, 0.000, 0.000, 0.000, 0.000]\n",
      "Probability of being inside window (1-M(i,i)+1-M(i,i-1)): 0.823\n",
      "--- --- ---\n",
      "escapeMatrix entry for window 1:\n",
      "[0.201, 0.000, 0.194, 0.000, 0.000, 0.000, 0.000, 0.000, 0.000, 0.000, 0.000, 0.000, 0.000, 0.000, 0.000, 0.000, 0.000]\n",
      "Ratio of left to right exit frequencies: 0.000\n",
      "Probability of being inside window (1-M(i,i)+1-M(i,i-1)): 0.604\n",
      "--- --- ---\n",
      "escapeMatrix entry for window 2:\n",
      "[0.000, 0.188, 0.000, 0.180, 0.000, 0.000, 0.000, 0.000, 0.000, 0.000, 0.000, 0.000, 0.000, 0.000, 0.000, 0.000, 0.000]\n",
      "Ratio of left to right exit frequencies: 1.038\n",
      "Probability of being inside window (1-M(i,i)+1-M(i,i-1)): 0.632\n",
      "--- --- ---\n",
      "escapeMatrix entry for window 3:\n",
      "[0.000, 0.000, 0.177, 0.000, 0.177, 0.000, 0.000, 0.000, 0.000, 0.000, 0.000, 0.000, 0.000, 0.000, 0.000, 0.000, 0.000]\n",
      "Ratio of left to right exit frequencies: 1.042\n",
      "Probability of being inside window (1-M(i,i)+1-M(i,i-1)): 0.646\n",
      "--- --- ---\n",
      "escapeMatrix entry for window 4:\n",
      "[0.000, 0.000, 0.000, 0.169, 0.000, 0.169, 0.000, 0.000, 0.000, 0.000, 0.000, 0.000, 0.000, 0.000, 0.000, 0.000, 0.000]\n",
      "Ratio of left to right exit frequencies: 1.000\n",
      "Probability of being inside window (1-M(i,i)+1-M(i,i-1)): 0.662\n",
      "--- --- ---\n",
      "escapeMatrix entry for window 5:\n",
      "[0.000, 0.000, 0.000, 0.000, 0.167, 0.000, 0.167, 0.000, 0.000, 0.000, 0.000, 0.000, 0.000, 0.000, 0.000, 0.000, 0.000]\n",
      "Ratio of left to right exit frequencies: 1.000\n",
      "Probability of being inside window (1-M(i,i)+1-M(i,i-1)): 0.667\n",
      "--- --- ---\n",
      "escapeMatrix entry for window 6:\n",
      "[0.000, 0.000, 0.000, 0.000, 0.000, 0.162, 0.000, 0.154, 0.000, 0.000, 0.000, 0.000, 0.000, 0.000, 0.000, 0.000, 0.000]\n",
      "Ratio of left to right exit frequencies: 1.000\n",
      "Probability of being inside window (1-M(i,i)+1-M(i,i-1)): 0.685\n",
      "--- --- ---\n",
      "escapeMatrix entry for window 7:\n",
      "[0.000, 0.000, 0.000, 0.000, 0.000, 0.000, 0.155, 0.000, 0.155, 0.000, 0.000, 0.000, 0.000, 0.000, 0.000, 0.000, 0.000]\n",
      "Ratio of left to right exit frequencies: 1.050\n",
      "Probability of being inside window (1-M(i,i)+1-M(i,i-1)): 0.690\n",
      "--- --- ---\n",
      "escapeMatrix entry for window 8:\n",
      "[0.000, 0.000, 0.000, 0.000, 0.000, 0.000, 0.000, 0.155, 0.000, 0.155, 0.000, 0.000, 0.000, 0.000, 0.000, 0.000, 0.000]\n",
      "Ratio of left to right exit frequencies: 1.000\n",
      "Probability of being inside window (1-M(i,i)+1-M(i,i-1)): 0.690\n",
      "--- --- ---\n",
      "escapeMatrix entry for window 9:\n",
      "[0.000, 0.000, 0.000, 0.000, 0.000, 0.000, 0.000, 0.000, 0.155, 0.000, 0.155, 0.000, 0.000, 0.000, 0.000, 0.000, 0.000]\n",
      "Ratio of left to right exit frequencies: 1.000\n",
      "Probability of being inside window (1-M(i,i)+1-M(i,i-1)): 0.690\n",
      "--- --- ---\n",
      "escapeMatrix entry for window 10:\n",
      "[0.000, 0.000, 0.000, 0.000, 0.000, 0.000, 0.000, 0.000, 0.000, 0.154, 0.000, 0.162, 0.000, 0.000, 0.000, 0.000, 0.000]\n",
      "Ratio of left to right exit frequencies: 1.000\n",
      "Probability of being inside window (1-M(i,i)+1-M(i,i-1)): 0.685\n",
      "--- --- ---\n",
      "escapeMatrix entry for window 11:\n",
      "[0.000, 0.000, 0.000, 0.000, 0.000, 0.000, 0.000, 0.000, 0.000, 0.000, 0.167, 0.000, 0.167, 0.000, 0.000, 0.000, 0.000]\n",
      "Ratio of left to right exit frequencies: 0.952\n",
      "Probability of being inside window (1-M(i,i)+1-M(i,i-1)): 0.667\n",
      "--- --- ---\n",
      "escapeMatrix entry for window 12:\n",
      "[0.000, 0.000, 0.000, 0.000, 0.000, 0.000, 0.000, 0.000, 0.000, 0.000, 0.000, 0.169, 0.000, 0.169, 0.000, 0.000, 0.000]\n",
      "Ratio of left to right exit frequencies: 1.000\n",
      "Probability of being inside window (1-M(i,i)+1-M(i,i-1)): 0.662\n",
      "--- --- ---\n",
      "escapeMatrix entry for window 13:\n",
      "[0.000, 0.000, 0.000, 0.000, 0.000, 0.000, 0.000, 0.000, 0.000, 0.000, 0.000, 0.000, 0.177, 0.000, 0.177, 0.000, 0.000]\n",
      "Ratio of left to right exit frequencies: 1.000\n",
      "Probability of being inside window (1-M(i,i)+1-M(i,i-1)): 0.646\n",
      "--- --- ---\n",
      "escapeMatrix entry for window 14:\n",
      "[0.000, 0.000, 0.000, 0.000, 0.000, 0.000, 0.000, 0.000, 0.000, 0.000, 0.000, 0.000, 0.000, 0.180, 0.000, 0.188, 0.000]\n",
      "Ratio of left to right exit frequencies: 1.000\n",
      "Probability of being inside window (1-M(i,i)+1-M(i,i-1)): 0.632\n",
      "--- --- ---\n",
      "escapeMatrix entry for window 15:\n",
      "[0.000, 0.000, 0.000, 0.000, 0.000, 0.000, 0.000, 0.000, 0.000, 0.000, 0.000, 0.000, 0.000, 0.000, 0.194, 0.000, 0.201]\n",
      "Ratio of left to right exit frequencies: 0.960\n",
      "Probability of being inside window (1-M(i,i)+1-M(i,i-1)): 0.604\n",
      "--- --- ---\n",
      "escapeMatrix entry for window 16:\n",
      "[0.000, 0.000, 0.000, 0.000, 0.000, 0.000, 0.000, 0.000, 0.000, 0.000, 0.000, 0.000, 0.000, 0.000, 0.000, 0.177, 0.000]\n",
      "Probability of being inside window (1-M(i,i)+1-M(i,i-1)): 0.823\n",
      "--- --- ---\n"
     ]
    },
    {
     "data": {
      "image/png": "[encoded data removed]",
      "text/plain": [
       "<Figure size 432x288 with 1 Axes>"
      ]
     },
     "metadata": {
      "needs_background": "light"
     },
     "output_type": "display_data"
    }
   ],
   "source": [
    "#note that our window indexing starts at 0\n",
    "#this causes a problem for boolean operations since 0 evaluates to false\n",
    "#while non-zero evaluates as true.\n",
    "#moreover, our 'bins' span from -1 to nWindows+1...\n",
    "#thus we will temporarily add 2 to all window and X_index values\n",
    "#this way our X_index will span values from 1 to nWindows+2\n",
    "windows=np.sort(simDataTable.Window.unique())\n",
    "xbins=np.sort(simDataTable.X_Index.unique())\n",
    "nBins=len(xbins)\n",
    "escapeMat=np.zeros((nBins,nBins))\n",
    "pCenters=np.zeros(len(windows))\n",
    "escapeRatios=np.zeros(len(windows))\n",
    "#iVal->escape matrix row index\n",
    "#xbin->window\n",
    "#cVal->place holder for bin index with indexing starting at 1\n",
    "for iVal,xbin in enumerate(xbins):\n",
    "    if xbin in windows:\n",
    "        tempDat=simDataTable[simDataTable.Window==xbin]\n",
    "        cVal=xbin+1\n",
    "        binVec=np.array(tempDat.X_Index+1)\n",
    "        binC=(binVec==cVal)\n",
    "        binT=(1-binC[1:])*binC[:-1]*binVec[1:]\n",
    "        tCounts=np.unique(binT,return_counts=True)\n",
    "        transInds=tCounts[0][1:] #first entry should always be for binT==0\n",
    "        transCounts=tCounts[1][1:]\n",
    "        cCount=np.sum(binC)\n",
    "        for iInd,Ind in enumerate(transInds):\n",
    "            escapeMat[iVal,Ind-1]=1.*transCounts[iInd]/cCount\n",
    "        print \"--- --- ---\"\n",
    "        print \"escapeMatrix entry for window %g:\"%xbin\n",
    "        print '['+', '.join(map(lambda x: '%.3f'%x,escapeMat[iVal,:]))+']'\n",
    "        if (iVal > 0) & (iVal < (len(windows)-1)):\n",
    "            escapeRatios[iVal]=1.*escapeMat[iVal,iVal-1]/escapeMat[iVal,iVal+1]\n",
    "            print 'Ratio of left to right exit frequencies: %.3f'%(\n",
    "                escapeRatios[iVal-1])\n",
    "        pCenters[iVal]=1.0-np.sum(escapeMat[iVal,:])\n",
    "        print \"Probability of being inside window (1-M(i,i)+1-M(i,i-1)): %.3f\"%(\n",
    "            pCenters[iVal])\n",
    "print \"--- --- ---\"\n",
    "\n",
    "plt.imshow(escapeMat,extent=(-1,nBins,-1,nBins))\n",
    "plt.show()"
   ]
  },
  {
   "cell_type": "code",
   "execution_count": 270,
   "metadata": {},
   "outputs": [
    {
     "data": {
      "text/plain": [
       "[]"
      ]
     },
     "execution_count": 270,
     "metadata": {},
     "output_type": "execute_result"
    },
    {
     "data": {
      "image/png": "[encoded data removed]",
      "text/plain": [
       "<Figure size 432x288 with 1 Axes>"
      ]
     },
     "metadata": {
      "needs_background": "light"
     },
     "output_type": "display_data"
    }
   ],
   "source": [
    "plt.plot(pCenters)\n",
    "plt.plot()"
   ]
  },
  {
   "cell_type": "code",
   "execution_count": 271,
   "metadata": {},
   "outputs": [
    {
     "data": {
      "image/png": "[encoded data removed]",
      "text/plain": [
       "<Figure size 432x288 with 1 Axes>"
      ]
     },
     "metadata": {
      "needs_background": "light"
     },
     "output_type": "display_data"
    },
    {
     "data": {
      "image/png": "[encoded data removed]",
      "text/plain": [
       "<Figure size 432x288 with 1 Axes>"
      ]
     },
     "metadata": {
      "needs_background": "light"
     },
     "output_type": "display_data"
    }
   ],
   "source": [
    "xVals=np.linspace(-4.5,4.5,100)\n",
    "potFun=lambda x: (x/4.0)**2\n",
    "\n",
    "potDer=lambda x: -x/(2*4.0**2)\n",
    "\n",
    "yVals=potFun(xVals)\n",
    "\n",
    "plt.plot(xVals,yVals)\n",
    "plt.plot(windowCenters,-np.log(pCenters)+np.log(np.min(pCenters)),'r')\n",
    "plt.show()\n",
    "\n",
    "plt.plot(xVals,potDer(xVals))\n",
    "plt.show()"
   ]
  },
  {
   "cell_type": "markdown",
   "metadata": {},
   "source": [
    "We now need to use the escape matrix to set up and solve a system of linear equations to find the equilibrium probability of being in each cell.\n",
    "\n",
    "From \"Maragliano, L. et. al. <I>J. Chem. Theory Comput.</I> 2009, 5; DOI:10.1021/ct900279z\" we have:\n",
    "\n",
    "\\begin{equation*}\n",
    "    \\sum\\limits_{\\gamma=1,\\gamma\\neq\\alpha}^{K}\\pi_\\gamma\\nu_{\\gamma\\alpha}=\n",
    "    \\sum\\limits_{\\gamma=1,\\gamma\\neq\\alpha}^{K}\\pi_\\alpha\\nu_{\\alpha\\gamma}; \n",
    "    \\label{eq:eq_flux_equation} \\tag{1}\n",
    "\\end{equation*}\n",
    "\n",
    "\\begin{equation*}\n",
    "  \\sum\\limits_{\\alpha=1}^{K}\\pi_\\alpha=1\n",
    "  \\label{eq:eq_probability_equation} \\tag{2}\n",
    "\\end{equation*}\n",
    "  \n",
    "where $\\nu_{\\alpha\\gamma}$ is the transition frequency (escape matrix entry) for moving from cell $\\alpha$ to cell (window) $\\gamma$ when starting from cell $\\alpha$, $K$ is the total number of cells, and $\\pi_\\alpha$ is the equilibrium probability (which we are trying to calculate) for cell $\\alpha$\n",
    "\n",
    "To make this a little more ammenable for numerical solution here, we will recast this in a matrix vector form.\n",
    "\n",
    "Let $\\matrix{R}$ be the escape matrix such that $R_{i,i}=0$ and $R_{i,j}$ is corresponding element of our escape matrix. Thus $R_{i,j}=\\nu_{\\alpha\\gamma}$ for $\\alpha=i$ and $\\gamma=j$.\n",
    "\n",
    "Next, let $\\overline{\\pi}$ be the vector of equilibrium probabilities being computed.\n",
    "\n",
    "We may then write the left hand side of equation (\\ref{eq:eq_flux_equation}) as $\\matrix{R}\\overline{\\pi}$\n",
    "\n",
    "For the right hand side of equation (\\ref{eq:eq_flux_equation}) we first define a diagonal matrix $\\matrix{D}$ with entries $D_{i,i}$ equal to the row sums of matrix $\\matrix{R}$.\n",
    "\n",
    "E.g. $D_{i,i}=\\sum\\limits_{j}R_{i,j}$\n",
    "\n",
    "We may then recast the right hand side of (\\ref{eq:eq_flux_equation}) as $\\matrix{D}\\overline{\\pi}$\n",
    "\n",
    "Putting this together equation (\\ref{eq:eq_flux_equation}) becomes:\n",
    "\n",
    "\\begin{equation*}\n",
    "    \\matrix{R}\\overline{\\pi}=\\matrix{D}\\overline{\\pi}\n",
    "    \\label{eq:eq_flux_matVec} \\tag{3}\n",
    "\\end{equation*}\n",
    "\n",
    "we may then write:\n",
    "\\begin{equation*}\n",
    "    \\left(\\matrix{R}-\\matrix{D}\\right)\\overline{\\pi}=0\n",
    "    \\label{eq:eq_flux_a} \\tag{3a}\n",
    "\\end{equation*}"
   ]
  },
  {
   "cell_type": "code",
   "execution_count": 272,
   "metadata": {},
   "outputs": [],
   "source": [
    "Rmat=np.matrix(escapeMat)\n",
    "Dmat=np.matrix(np.diag(np.sum(escapeMat,axis=0)))\n",
    "Pvec=pCenters #use this as a starting guess\n",
    "Pvec=Pvec/np.sum(Pvec)\n",
    "\n",
    "RDmat=Rmat-Dmat"
   ]
  },
  {
   "cell_type": "code",
   "execution_count": 273,
   "metadata": {},
   "outputs": [
    {
     "name": "stdout",
     "output_type": "stream",
     "text": [
      "[0.07154168 0.05253508 0.05489046 0.05615716 0.05749423 0.05793992\n",
      " 0.05949985 0.05996108 0.05996108 0.05996108 0.05949985 0.05793992\n",
      " 0.05749423 0.05615716 0.05489046 0.05253508 0.07154168]\n",
      "[0.05640297 0.06428007 0.06228692 0.06109138 0.05843434 0.05753333\n",
      " 0.05573656 0.05615571 0.05615742 0.05615571 0.05573656 0.05753333\n",
      " 0.05843434 0.06109138 0.06228692 0.06428007 0.05640297]\n"
     ]
    },
    {
     "data": {
      "image/png": "[encoded data removed]",
      "text/plain": [
       "<Figure size 432x288 with 1 Axes>"
      ]
     },
     "metadata": {
      "needs_background": "light"
     },
     "output_type": "display_data"
    }
   ],
   "source": [
    "print Pvec\n",
    "plt.plot(Pvec,label='initial')\n",
    "Pvec=linalg.cg(RDmat,np.zeros(len(Pvec)),x0=Pvec)[0]\n",
    "print Pvec\n",
    "np.sum(Pvec)\n",
    "plt.plot(Pvec,label='final')\n",
    "plt.legend()\n",
    "plt.show()"
   ]
  },
  {
   "cell_type": "code",
   "execution_count": 259,
   "metadata": {},
   "outputs": [
    {
     "data": {
      "image/png": "[encoded data removed]",
      "text/plain": [
       "<Figure size 432x288 with 1 Axes>"
      ]
     },
     "metadata": {
      "needs_background": "light"
     },
     "output_type": "display_data"
    }
   ],
   "source": [
    "plt.plot(-np.log(Pvec))\n",
    "plt.show()"
   ]
  },
  {
   "cell_type": "code",
   "execution_count": null,
   "metadata": {},
   "outputs": [],
   "source": []
  }
 ],
 "metadata": {
  "kernelspec": {
   "display_name": "Python 2",
   "language": "python",
   "name": "python2"
  },
  "language_info": {
   "codemirror_mode": {
    "name": "ipython",
    "version": 2
   },
   "file_extension": ".py",
   "mimetype": "text/x-python",
   "name": "python",
   "nbconvert_exporter": "python",
   "pygments_lexer": "ipython2",
   "version": "2.7.16"
  }
 },
 "nbformat": 4,
 "nbformat_minor": 2
}
