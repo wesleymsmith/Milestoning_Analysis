{
 "cells": [
  {
   "cell_type": "code",
   "execution_count": 121,
   "metadata": {},
   "outputs": [],
   "source": [
    "import numpy as np\n",
    "import pandas as pd\n",
    "import matplotlib\n",
    "from matplotlib import pyplot as plt\n",
    "import tqdm\n",
    "import copy\n",
    "import gc\n",
    "import sys\n",
    "import os\n",
    "import f90nml\n",
    "\n",
    "import bokeh\n",
    "from bokeh.layouts import gridplot\n",
    "from bokeh.models import ColumnDataSource, CDSView, GroupFilter, HoverTool\n",
    "from bokeh.plotting import figure, show\n",
    "from bokeh.transform import factor_cmap\n",
    "from bokeh.palettes import Spectral11\n",
    "\n",
    "from bokeh.models.mappers import CategoricalColorMapper\n",
    "\n",
    "import ipywidgets as widgets\n",
    "from ipywidgets import interact, interact_manual\n",
    "\n",
    "import scipy as sp\n",
    "from scipy.sparse import linalg"
   ]
  },
  {
   "cell_type": "markdown",
   "metadata": {},
   "source": [
    "First we import the data from the test simulations"
   ]
  },
  {
   "cell_type": "code",
   "execution_count": 2,
   "metadata": {},
   "outputs": [
    {
     "data": {
      "text/html": [
       "<div>\n",
       "<style scoped>\n",
       "    .dataframe tbody tr th:only-of-type {\n",
       "        vertical-align: middle;\n",
       "    }\n",
       "\n",
       "    .dataframe tbody tr th {\n",
       "        vertical-align: top;\n",
       "    }\n",
       "\n",
       "    .dataframe thead th {\n",
       "        text-align: right;\n",
       "    }\n",
       "</style>\n",
       "<table border=\"1\" class=\"dataframe\">\n",
       "  <thead>\n",
       "    <tr style=\"text-align: right;\">\n",
       "      <th></th>\n",
       "      <th>Window</th>\n",
       "      <th>Frame</th>\n",
       "      <th>Time</th>\n",
       "      <th>X</th>\n",
       "      <th>V</th>\n",
       "      <th>F</th>\n",
       "      <th>E</th>\n",
       "    </tr>\n",
       "  </thead>\n",
       "  <tbody>\n",
       "    <tr>\n",
       "      <th>0</th>\n",
       "      <td>0</td>\n",
       "      <td>499</td>\n",
       "      <td>0.499</td>\n",
       "      <td>-4.194121</td>\n",
       "      <td>0.169740</td>\n",
       "      <td>0.131066</td>\n",
       "      <td>0.582288</td>\n",
       "    </tr>\n",
       "    <tr>\n",
       "      <th>1</th>\n",
       "      <td>0</td>\n",
       "      <td>999</td>\n",
       "      <td>0.999</td>\n",
       "      <td>-4.275652</td>\n",
       "      <td>-0.031547</td>\n",
       "      <td>0.390135</td>\n",
       "      <td>0.575607</td>\n",
       "    </tr>\n",
       "    <tr>\n",
       "      <th>2</th>\n",
       "      <td>0</td>\n",
       "      <td>1499</td>\n",
       "      <td>1.499</td>\n",
       "      <td>-4.167321</td>\n",
       "      <td>-0.190520</td>\n",
       "      <td>0.130229</td>\n",
       "      <td>0.583354</td>\n",
       "    </tr>\n",
       "    <tr>\n",
       "      <th>3</th>\n",
       "      <td>0</td>\n",
       "      <td>1999</td>\n",
       "      <td>1.999</td>\n",
       "      <td>-3.959980</td>\n",
       "      <td>-0.298505</td>\n",
       "      <td>0.123749</td>\n",
       "      <td>0.590011</td>\n",
       "    </tr>\n",
       "    <tr>\n",
       "      <th>4</th>\n",
       "      <td>0</td>\n",
       "      <td>2499</td>\n",
       "      <td>2.499</td>\n",
       "      <td>-3.670802</td>\n",
       "      <td>-0.304773</td>\n",
       "      <td>-0.677272</td>\n",
       "      <td>0.558500</td>\n",
       "    </tr>\n",
       "  </tbody>\n",
       "</table>\n",
       "</div>"
      ],
      "text/plain": [
       "   Window  Frame   Time         X         V         F         E\n",
       "0       0    499  0.499 -4.194121  0.169740  0.131066  0.582288\n",
       "1       0    999  0.999 -4.275652 -0.031547  0.390135  0.575607\n",
       "2       0   1499  1.499 -4.167321 -0.190520  0.130229  0.583354\n",
       "3       0   1999  1.999 -3.959980 -0.298505  0.123749  0.590011\n",
       "4       0   2499  2.499 -3.670802 -0.304773 -0.677272  0.558500"
      ]
     },
     "execution_count": 2,
     "metadata": {},
     "output_type": "execute_result"
    }
   ],
   "source": [
    "simDataTable=pd.read_csv(\"Test_Simulation_Milestoning_Data.csv\")\n",
    "simDataTable.head()"
   ]
  },
  {
   "cell_type": "markdown",
   "metadata": {},
   "source": [
    "Now we need to bin the coordinate data.\n",
    "For this we need to know the window bounds"
   ]
  },
  {
   "cell_type": "code",
   "execution_count": 3,
   "metadata": {},
   "outputs": [],
   "source": [
    "windowWidth=.5\n",
    "windowK=10.0\n",
    "windowCenters=np.arange(-8,9)*windowWidth\n",
    "winMaxs=windowCenters+windowWidth/2.0\n",
    "winMins=windowCenters-windowWidth/2.0"
   ]
  },
  {
   "cell_type": "markdown",
   "metadata": {},
   "source": [
    "For the one dimensional case, assingin bin indices can be easily accomplished by the numpy command 'digitize'\n",
    "\n",
    "The example below illustartes this.\n",
    "\n",
    "Note that we need two additional 'bins'.\n",
    "Bin zero will account for anything to the left of the leftmost window edge and the last bin will capture anything to the right of the rightmost window edge.\n",
    "\n",
    "We then use didgitize to apply this bin indexing to an array of numbers from -5 to 5 spaced .25 units apart."
   ]
  },
  {
   "cell_type": "code",
   "execution_count": 4,
   "metadata": {},
   "outputs": [
    {
     "name": "stdout",
     "output_type": "stream",
     "text": [
      "[(1, (-4.25, -3.75)), (2, (-3.75, -3.25)), (3, (-3.25, -2.75)), (4, (-2.75, -2.25)), (5, (-2.25, -1.75)), (6, (-1.75, -1.25)), (7, (-1.25, -0.75)), (8, (-0.75, -0.25)), (9, (-0.25, 0.25)), (10, (0.25, 0.75)), (11, (0.75, 1.25)), (12, (1.25, 1.75)), (13, (1.75, 2.25)), (14, (2.25, 2.75)), (15, (2.75, 3.25)), (16, (3.25, 3.75)), (17, (3.75, 4.25))]\n",
      "[(-5.0, 0), (-4.75, 0), (-4.5, 0), (-4.25, 1), (-4.0, 1), (-3.75, 2), (-3.5, 2), (-3.25, 3), (-3.0, 3), (-2.75, 4), (-2.5, 4), (-2.25, 5), (-2.0, 5), (-1.75, 6), (-1.5, 6), (-1.25, 7), (-1.0, 7), (-0.75, 8), (-0.5, 8), (-0.25, 9), (0.0, 9), (0.25, 10), (0.5, 10), (0.75, 11), (1.0, 11), (1.25, 12), (1.5, 12), (1.75, 13), (2.0, 13), (2.25, 14), (2.5, 14), (2.75, 15), (3.0, 15), (3.25, 16), (3.5, 16), (3.75, 17), (4.0, 17), (4.25, 18), (4.5, 18), (4.75, 18), (5.0, 18)]\n"
     ]
    }
   ],
   "source": [
    "xvals=np.arange(-20,21)*.25\n",
    "print zip(np.arange(len(windowCenters))+1,zip(winMins,winMaxs))\n",
    "print zip(xvals,np.digitize(xvals,bins=np.concatenate([winMins,[winMaxs[-1]]])))"
   ]
  },
  {
   "cell_type": "markdown",
   "metadata": {},
   "source": [
    "We can now use the above procedure to bin our X coordinate data for each window.\n",
    "\n",
    "We can make use of digitize as above. We note that if you give digitize N bin edges, it will give you N+1 bins. Also, by default it assumes the edges are the left hand sides of each bin.\n",
    "\n",
    "This means:\n",
    "    1. We want to give nWindows-1 bin edges\n",
    "    2. We want to give it the window minima (left hand edges)"
   ]
  },
  {
   "cell_type": "code",
   "execution_count": 5,
   "metadata": {},
   "outputs": [
    {
     "data": {
      "text/html": [
       "<div>\n",
       "<style scoped>\n",
       "    .dataframe tbody tr th:only-of-type {\n",
       "        vertical-align: middle;\n",
       "    }\n",
       "\n",
       "    .dataframe tbody tr th {\n",
       "        vertical-align: top;\n",
       "    }\n",
       "\n",
       "    .dataframe thead th {\n",
       "        text-align: right;\n",
       "    }\n",
       "</style>\n",
       "<table border=\"1\" class=\"dataframe\">\n",
       "  <thead>\n",
       "    <tr style=\"text-align: right;\">\n",
       "      <th></th>\n",
       "      <th>Window</th>\n",
       "      <th>Frame</th>\n",
       "      <th>Time</th>\n",
       "      <th>X</th>\n",
       "      <th>V</th>\n",
       "      <th>F</th>\n",
       "      <th>E</th>\n",
       "      <th>X_Index</th>\n",
       "    </tr>\n",
       "  </thead>\n",
       "  <tbody>\n",
       "    <tr>\n",
       "      <th>0</th>\n",
       "      <td>0</td>\n",
       "      <td>499</td>\n",
       "      <td>0.499</td>\n",
       "      <td>-4.194121</td>\n",
       "      <td>0.169740</td>\n",
       "      <td>0.131066</td>\n",
       "      <td>0.582288</td>\n",
       "      <td>0</td>\n",
       "    </tr>\n",
       "    <tr>\n",
       "      <th>1</th>\n",
       "      <td>0</td>\n",
       "      <td>999</td>\n",
       "      <td>0.999</td>\n",
       "      <td>-4.275652</td>\n",
       "      <td>-0.031547</td>\n",
       "      <td>0.390135</td>\n",
       "      <td>0.575607</td>\n",
       "      <td>0</td>\n",
       "    </tr>\n",
       "    <tr>\n",
       "      <th>2</th>\n",
       "      <td>0</td>\n",
       "      <td>1499</td>\n",
       "      <td>1.499</td>\n",
       "      <td>-4.167321</td>\n",
       "      <td>-0.190520</td>\n",
       "      <td>0.130229</td>\n",
       "      <td>0.583354</td>\n",
       "      <td>0</td>\n",
       "    </tr>\n",
       "    <tr>\n",
       "      <th>3</th>\n",
       "      <td>0</td>\n",
       "      <td>1999</td>\n",
       "      <td>1.999</td>\n",
       "      <td>-3.959980</td>\n",
       "      <td>-0.298505</td>\n",
       "      <td>0.123749</td>\n",
       "      <td>0.590011</td>\n",
       "      <td>0</td>\n",
       "    </tr>\n",
       "    <tr>\n",
       "      <th>4</th>\n",
       "      <td>0</td>\n",
       "      <td>2499</td>\n",
       "      <td>2.499</td>\n",
       "      <td>-3.670802</td>\n",
       "      <td>-0.304773</td>\n",
       "      <td>-0.677272</td>\n",
       "      <td>0.558500</td>\n",
       "      <td>1</td>\n",
       "    </tr>\n",
       "  </tbody>\n",
       "</table>\n",
       "</div>"
      ],
      "text/plain": [
       "   Window  Frame   Time         X         V         F         E  X_Index\n",
       "0       0    499  0.499 -4.194121  0.169740  0.131066  0.582288        0\n",
       "1       0    999  0.999 -4.275652 -0.031547  0.390135  0.575607        0\n",
       "2       0   1499  1.499 -4.167321 -0.190520  0.130229  0.583354        0\n",
       "3       0   1999  1.999 -3.959980 -0.298505  0.123749  0.590011        0\n",
       "4       0   2499  2.499 -3.670802 -0.304773 -0.677272  0.558500        1"
      ]
     },
     "execution_count": 5,
     "metadata": {},
     "output_type": "execute_result"
    }
   ],
   "source": [
    "binEdges=winMins[1:] #np.concatenate([winMins,[winMaxs[-1]]])\n",
    "digitize_kwds={\"bins\":binEdges}\n",
    "simDataTable['X_Index']=simDataTable.X.apply(np.digitize,**digitize_kwds)\n",
    "simDataTable.head()"
   ]
  },
  {
   "cell_type": "markdown",
   "metadata": {},
   "source": [
    "Before proceeding, it is a good idea to visualize the results.\n",
    "\n",
    "We can make use of a hand python widget to allow us to easily select a given window to view.\n",
    "\n",
    "The red line shows the actual observed values of $x$\n",
    "\n",
    "The orange dots indicate the window bin that x was assigned into for the given frame.\n",
    "\n",
    "The black horizontal lines indicate the edges of the window bin.\n",
    "\n",
    "An intersting note is that there are no transitions on the negative side of window 0 and no\n",
    "positive side of window 16. This essentially means that we count anything to the right of bin 16's right edge as part of bin 16 and anything to the left of bin 0's left edge as part of bin0"
   ]
  },
  {
   "cell_type": "code",
   "execution_count": 6,
   "metadata": {
    "scrolled": true
   },
   "outputs": [
    {
     "data": {
      "application/vnd.jupyter.widget-view+json": {
       "model_id": "",
       "version_major": 2,
       "version_minor": 0
      },
      "text/plain": [
       "aW50ZXJhY3RpdmUoY2hpbGRyZW49KEludFNsaWRlcih2YWx1ZT04LCBkZXNjcmlwdGlvbj11J3dpbmRvdycsIG1heD0xNiksIE91dHB1dCgpKSwgX2RvbV9jbGFzc2VzPSh1J3dpZGdldC1pbnTigKY=\n"
      ]
     },
     "metadata": {},
     "output_type": "display_data"
    }
   ],
   "source": [
    "@interact\n",
    "def plot_window(window=(simDataTable.Window.min(),simDataTable.Window.max(),1)):\n",
    "    plt.figure(figsize=(12,9))\n",
    "    plt.rcParams['axes.facecolor']='grey'\n",
    "    nWindows=len(simDataTable.Window.unique())\n",
    "    plotData=simDataTable[simDataTable.Window==window]\n",
    "    plt.scatter(plotData.Time,\n",
    "                (plotData.X_Index-(nWindows-1)/2.)*windowWidth,\n",
    "                c='orange',#Spectral11[window%11],\n",
    "                s=4,\n",
    "                label='Window_%02g'%window)\n",
    "    plt.plot(plotData.Time,\n",
    "             plotData.X,\n",
    "             'r',\n",
    "             #Spectral11[window%11],\n",
    "             label='Window_%02g'%window)\n",
    "    plt.plot(plotData.Time,\n",
    "             [winMins[window]]*len(plotData),c='k')\n",
    "    plt.plot(plotData.Time,\n",
    "             [winMaxs[window]]*len(plotData),c='k')\n",
    "    plt.legend()\n",
    "    plt.grid()\n",
    "    plt.show()"
   ]
  },
  {
   "cell_type": "markdown",
   "metadata": {},
   "source": [
    "We are now ready to compute the escape matrix.\n",
    "\n",
    "This is an Nwindow by Nwindow matrix with a diagonal of 0.\n",
    "The off diagonals represent the probability of transitioning form one window to another.\n",
    "\n",
    "I.e.\n",
    "$$M_{i,j}=N_{i->j}/N_{i}$$\n",
    "where $M_{i,j}$ is an element of the escape matrix, $N_{i->j}$ is the number of frames where $x$ is observed in bin $j$ when it was in bin $i$ on the previous frame, and $N_{i}$ is the number of frames where $x$ is observed in bin $i$ as computed from the simulation with the milestoning well for bin $i$"
   ]
  },
  {
   "cell_type": "code",
   "execution_count": 7,
   "metadata": {},
   "outputs": [
    {
     "name": "stdout",
     "output_type": "stream",
     "text": [
      "--- --- ---\n",
      "escapeMatrix entry for window 0:\n",
      "[0.000, 0.177, 0.000, 0.000, 0.000, 0.000, 0.000, 0.000, 0.000, 0.000, 0.000, 0.000, 0.000, 0.000, 0.000, 0.000, 0.000]\n",
      "Probability of being inside window (1-M(i,i)+1-M(i,i-1)): 0.823\n",
      "--- --- ---\n",
      "escapeMatrix entry for window 1:\n",
      "[0.201, 0.000, 0.194, 0.000, 0.000, 0.000, 0.000, 0.000, 0.000, 0.000, 0.000, 0.000, 0.000, 0.000, 0.000, 0.000, 0.000]\n",
      "Ratio of left to right exit frequencies: 0.000\n",
      "Probability of being inside window (1-M(i,i)+1-M(i,i-1)): 0.604\n",
      "--- --- ---\n",
      "escapeMatrix entry for window 2:\n",
      "[0.000, 0.188, 0.000, 0.180, 0.000, 0.000, 0.000, 0.000, 0.000, 0.000, 0.000, 0.000, 0.000, 0.000, 0.000, 0.000, 0.000]\n",
      "Ratio of left to right exit frequencies: 1.038\n",
      "Probability of being inside window (1-M(i,i)+1-M(i,i-1)): 0.632\n",
      "--- --- ---\n",
      "escapeMatrix entry for window 3:\n",
      "[0.000, 0.000, 0.177, 0.000, 0.177, 0.000, 0.000, 0.000, 0.000, 0.000, 0.000, 0.000, 0.000, 0.000, 0.000, 0.000, 0.000]\n",
      "Ratio of left to right exit frequencies: 1.042\n",
      "Probability of being inside window (1-M(i,i)+1-M(i,i-1)): 0.646\n",
      "--- --- ---\n",
      "escapeMatrix entry for window 4:\n",
      "[0.000, 0.000, 0.000, 0.169, 0.000, 0.169, 0.000, 0.000, 0.000, 0.000, 0.000, 0.000, 0.000, 0.000, 0.000, 0.000, 0.000]\n",
      "Ratio of left to right exit frequencies: 1.000\n",
      "Probability of being inside window (1-M(i,i)+1-M(i,i-1)): 0.662\n",
      "--- --- ---\n",
      "escapeMatrix entry for window 5:\n",
      "[0.000, 0.000, 0.000, 0.000, 0.167, 0.000, 0.167, 0.000, 0.000, 0.000, 0.000, 0.000, 0.000, 0.000, 0.000, 0.000, 0.000]\n",
      "Ratio of left to right exit frequencies: 1.000\n",
      "Probability of being inside window (1-M(i,i)+1-M(i,i-1)): 0.667\n",
      "--- --- ---\n",
      "escapeMatrix entry for window 6:\n",
      "[0.000, 0.000, 0.000, 0.000, 0.000, 0.162, 0.000, 0.154, 0.000, 0.000, 0.000, 0.000, 0.000, 0.000, 0.000, 0.000, 0.000]\n",
      "Ratio of left to right exit frequencies: 1.000\n",
      "Probability of being inside window (1-M(i,i)+1-M(i,i-1)): 0.685\n",
      "--- --- ---\n",
      "escapeMatrix entry for window 7:\n",
      "[0.000, 0.000, 0.000, 0.000, 0.000, 0.000, 0.155, 0.000, 0.155, 0.000, 0.000, 0.000, 0.000, 0.000, 0.000, 0.000, 0.000]\n",
      "Ratio of left to right exit frequencies: 1.050\n",
      "Probability of being inside window (1-M(i,i)+1-M(i,i-1)): 0.690\n",
      "--- --- ---\n",
      "escapeMatrix entry for window 8:\n",
      "[0.000, 0.000, 0.000, 0.000, 0.000, 0.000, 0.000, 0.155, 0.000, 0.155, 0.000, 0.000, 0.000, 0.000, 0.000, 0.000, 0.000]\n",
      "Ratio of left to right exit frequencies: 1.000\n",
      "Probability of being inside window (1-M(i,i)+1-M(i,i-1)): 0.690\n",
      "--- --- ---\n",
      "escapeMatrix entry for window 9:\n",
      "[0.000, 0.000, 0.000, 0.000, 0.000, 0.000, 0.000, 0.000, 0.155, 0.000, 0.155, 0.000, 0.000, 0.000, 0.000, 0.000, 0.000]\n",
      "Ratio of left to right exit frequencies: 1.000\n",
      "Probability of being inside window (1-M(i,i)+1-M(i,i-1)): 0.690\n",
      "--- --- ---\n",
      "escapeMatrix entry for window 10:\n",
      "[0.000, 0.000, 0.000, 0.000, 0.000, 0.000, 0.000, 0.000, 0.000, 0.154, 0.000, 0.162, 0.000, 0.000, 0.000, 0.000, 0.000]\n",
      "Ratio of left to right exit frequencies: 1.000\n",
      "Probability of being inside window (1-M(i,i)+1-M(i,i-1)): 0.685\n",
      "--- --- ---\n",
      "escapeMatrix entry for window 11:\n",
      "[0.000, 0.000, 0.000, 0.000, 0.000, 0.000, 0.000, 0.000, 0.000, 0.000, 0.167, 0.000, 0.167, 0.000, 0.000, 0.000, 0.000]\n",
      "Ratio of left to right exit frequencies: 0.952\n",
      "Probability of being inside window (1-M(i,i)+1-M(i,i-1)): 0.667\n",
      "--- --- ---\n",
      "escapeMatrix entry for window 12:\n",
      "[0.000, 0.000, 0.000, 0.000, 0.000, 0.000, 0.000, 0.000, 0.000, 0.000, 0.000, 0.169, 0.000, 0.169, 0.000, 0.000, 0.000]\n",
      "Ratio of left to right exit frequencies: 1.000\n",
      "Probability of being inside window (1-M(i,i)+1-M(i,i-1)): 0.662\n",
      "--- --- ---\n",
      "escapeMatrix entry for window 13:\n",
      "[0.000, 0.000, 0.000, 0.000, 0.000, 0.000, 0.000, 0.000, 0.000, 0.000, 0.000, 0.000, 0.177, 0.000, 0.177, 0.000, 0.000]\n",
      "Ratio of left to right exit frequencies: 1.000\n",
      "Probability of being inside window (1-M(i,i)+1-M(i,i-1)): 0.646\n",
      "--- --- ---\n",
      "escapeMatrix entry for window 14:\n",
      "[0.000, 0.000, 0.000, 0.000, 0.000, 0.000, 0.000, 0.000, 0.000, 0.000, 0.000, 0.000, 0.000, 0.180, 0.000, 0.188, 0.000]\n",
      "Ratio of left to right exit frequencies: 1.000\n",
      "Probability of being inside window (1-M(i,i)+1-M(i,i-1)): 0.632\n",
      "--- --- ---\n",
      "escapeMatrix entry for window 15:\n",
      "[0.000, 0.000, 0.000, 0.000, 0.000, 0.000, 0.000, 0.000, 0.000, 0.000, 0.000, 0.000, 0.000, 0.000, 0.194, 0.000, 0.201]\n",
      "Ratio of left to right exit frequencies: 0.960\n",
      "Probability of being inside window (1-M(i,i)+1-M(i,i-1)): 0.604\n",
      "--- --- ---\n",
      "escapeMatrix entry for window 16:\n",
      "[0.000, 0.000, 0.000, 0.000, 0.000, 0.000, 0.000, 0.000, 0.000, 0.000, 0.000, 0.000, 0.000, 0.000, 0.000, 0.177, 0.000]\n",
      "Probability of being inside window (1-M(i,i)+1-M(i,i-1)): 0.823\n",
      "--- --- ---\n"
     ]
    },
    {
     "data": {
      "image/png": "[encoded data removed]",
      "text/plain": [
       "<Figure size 432x288 with 1 Axes>"
      ]
     },
     "metadata": {
      "needs_background": "light"
     },
     "output_type": "display_data"
    }
   ],
   "source": [
    "#note that our window indexing starts at 0\n",
    "#this causes a problem for boolean operations since 0 evaluates to false\n",
    "#while non-zero evaluates as true.\n",
    "#moreover, our 'bins' span from -1 to nWindows+1...\n",
    "#thus we will temporarily add 2 to all window and X_index values\n",
    "#this way our X_index will span values from 1 to nWindows+2\n",
    "windows=np.sort(simDataTable.Window.unique())\n",
    "xbins=np.sort(simDataTable.X_Index.unique())\n",
    "nBins=len(xbins)\n",
    "escapeMat=np.zeros((nBins,nBins))\n",
    "pCenters=np.zeros(len(windows))\n",
    "escapeRatios=np.zeros(len(windows))\n",
    "#iVal->escape matrix row index\n",
    "#xbin->window\n",
    "#cVal->place holder for bin index with indexing starting at 1\n",
    "for iVal,xbin in enumerate(xbins):\n",
    "    if xbin in windows:\n",
    "        tempDat=simDataTable[simDataTable.Window==xbin]\n",
    "        cVal=xbin+1\n",
    "        binVec=np.array(tempDat.X_Index+1)\n",
    "        binC=(binVec==cVal)\n",
    "        binT=(1-binC[1:])*binC[:-1]*binVec[1:]\n",
    "        tCounts=np.unique(binT,return_counts=True)\n",
    "        transInds=tCounts[0][1:] #first entry should always be for binT==0\n",
    "        transCounts=tCounts[1][1:]\n",
    "        cCount=np.sum(binC)\n",
    "        for iInd,Ind in enumerate(transInds):\n",
    "            escapeMat[iVal,Ind-1]=1.*transCounts[iInd]/cCount\n",
    "        print \"--- --- ---\"\n",
    "        print \"escapeMatrix entry for window %g:\"%xbin\n",
    "        print '['+', '.join(map(lambda x: '%.3f'%x,escapeMat[iVal,:]))+']'\n",
    "        if (iVal > 0) & (iVal < (len(windows)-1)):\n",
    "            escapeRatios[iVal]=1.*escapeMat[iVal,iVal-1]/escapeMat[iVal,iVal+1]\n",
    "            print 'Ratio of left to right exit frequencies: %.3f'%(\n",
    "                escapeRatios[iVal-1])\n",
    "        pCenters[iVal]=1.0-np.sum(escapeMat[iVal,:])\n",
    "        print \"Probability of being inside window (1-M(i,i)+1-M(i,i-1)): %.3f\"%(\n",
    "            pCenters[iVal])\n",
    "print \"--- --- ---\"\n",
    "\n",
    "plt.imshow(escapeMat,extent=(-1,nBins,-1,nBins))\n",
    "plt.show()"
   ]
  },
  {
   "cell_type": "code",
   "execution_count": 8,
   "metadata": {},
   "outputs": [
    {
     "data": {
      "text/plain": [
       "[]"
      ]
     },
     "execution_count": 8,
     "metadata": {},
     "output_type": "execute_result"
    },
    {
     "data": {
      "image/png": "[encoded data removed]",
      "text/plain": [
       "<Figure size 432x288 with 1 Axes>"
      ]
     },
     "metadata": {
      "needs_background": "light"
     },
     "output_type": "display_data"
    }
   ],
   "source": [
    "plt.plot(pCenters)\n",
    "plt.plot()"
   ]
  },
  {
   "cell_type": "code",
   "execution_count": 9,
   "metadata": {},
   "outputs": [
    {
     "data": {
      "image/png": "[encoded data removed]",
      "text/plain": [
       "<Figure size 432x288 with 1 Axes>"
      ]
     },
     "metadata": {
      "needs_background": "light"
     },
     "output_type": "display_data"
    },
    {
     "data": {
      "image/png": "[encoded data removed]",
      "text/plain": [
       "<Figure size 432x288 with 1 Axes>"
      ]
     },
     "metadata": {
      "needs_background": "light"
     },
     "output_type": "display_data"
    }
   ],
   "source": [
    "xVals=np.linspace(-4.5,4.5,100)\n",
    "potFun=lambda x: (x/4.0)**2\n",
    "\n",
    "potDer=lambda x: -x/(2*4.0**2)\n",
    "\n",
    "yVals=potFun(xVals)\n",
    "\n",
    "plt.plot(xVals,yVals)\n",
    "plt.plot(windowCenters,-np.log(pCenters)+np.log(np.min(pCenters)),'r')\n",
    "plt.show()\n",
    "\n",
    "plt.plot(xVals,potDer(xVals))\n",
    "plt.show()"
   ]
  },
  {
   "cell_type": "markdown",
   "metadata": {},
   "source": [
    "We now need to use the escape matrix to set up and solve a system of linear equations to find the equilibrium probability of being in each cell.\n",
    "\n",
    "From \"Maragliano, L. et. al. <I>J. Chem. Theory Comput.</I> 2009, 5; DOI:10.1021/ct900279z\" we have:\n",
    "\n",
    "\\begin{equation*}\n",
    "    \\sum\\limits_{\\gamma=1,\\gamma\\neq\\alpha}^{K}\\pi_\\gamma\\nu_{\\gamma\\alpha}=\n",
    "    \\sum\\limits_{\\gamma=1,\\gamma\\neq\\alpha}^{K}\\pi_\\alpha\\nu_{\\alpha\\gamma}; \n",
    "    \\label{eq:eq_flux_equation} \\tag{1}\n",
    "\\end{equation*}\n",
    "\n",
    "\\begin{equation*}\n",
    "  \\sum\\limits_{\\alpha=1}^{K}\\pi_\\alpha=1\n",
    "  \\label{eq:eq_probability_equation} \\tag{2}\n",
    "\\end{equation*}\n",
    "  \n",
    "where $\\nu_{\\alpha\\gamma}$ is the transition frequency (escape matrix entry) for moving from cell $\\alpha$ to cell (window) $\\gamma$ when starting from cell $\\alpha$, $K$ is the total number of cells, and $\\pi_\\alpha$ is the equilibrium probability (which we are trying to calculate) for cell $\\alpha$\n",
    "\n",
    "To make this a little more ammenable for numerical solution here, we will recast this in a matrix vector form.\n",
    "\n",
    "Let $\\matrix{R}$ be the escape matrix such that $R_{i,i}=0$ and $R_{i,j}$ is corresponding element of our escape matrix. Thus $R_{i,j}=\\nu_{\\alpha\\gamma}$ for $\\alpha=i$ and $\\gamma=j$.\n",
    "\n",
    "Next, let $\\overline{\\pi}$ be the vector of equilibrium probabilities being computed.\n",
    "\n",
    "We may then write the left hand side of equation (\\ref{eq:eq_flux_equation}) as $\\matrix{R}\\overline{\\pi}$\n",
    "\n",
    "For the right hand side of equation (\\ref{eq:eq_flux_equation}) we first define a diagonal matrix $\\matrix{D}$ with entries $D_{i,i}$ equal to the row sums of matrix $\\matrix{R}$.\n",
    "\n",
    "E.g. $D_{i,i}=\\sum\\limits_{j}R_{i,j}$\n",
    "\n",
    "We may then recast the right hand side of (\\ref{eq:eq_flux_equation}) as $\\matrix{D}\\overline{\\pi}$\n",
    "\n",
    "Putting this together equation (\\ref{eq:eq_flux_equation}) becomes:\n",
    "\n",
    "\\begin{equation*}\n",
    "    \\matrix{R}\\overline{\\pi}=\\matrix{D}\\overline{\\pi}\n",
    "    \\label{eq:eq_flux_matVec} \\tag{3}\n",
    "\\end{equation*}\n",
    "\n",
    "we may then write:\n",
    "\\begin{equation*}\n",
    "    \\left(\\matrix{R}-\\matrix{D}\\right)\\overline{\\pi}=0\n",
    "    \\label{eq:eq_flux_a} \\tag{3a}\n",
    "\\end{equation*}"
   ]
  },
  {
   "cell_type": "code",
   "execution_count": 10,
   "metadata": {},
   "outputs": [],
   "source": [
    "Rmat=np.matrix(escapeMat)\n",
    "Dmat=np.matrix(np.diag(np.sum(escapeMat,axis=0)))\n",
    "Pvec=pCenters #use this as a starting guess\n",
    "Pvec=Pvec/np.sum(Pvec)\n",
    "\n",
    "RDmat=Rmat-Dmat"
   ]
  },
  {
   "cell_type": "code",
   "execution_count": 11,
   "metadata": {},
   "outputs": [
    {
     "name": "stdout",
     "output_type": "stream",
     "text": [
      "[0.07154168 0.05253508 0.05489046 0.05615716 0.05749423 0.05793992\n",
      " 0.05949985 0.05996108 0.05996108 0.05996108 0.05949985 0.05793992\n",
      " 0.05749423 0.05615716 0.05489046 0.05253508 0.07154168]\n",
      "[0.05640297 0.06428007 0.06228692 0.06109138 0.05843434 0.05753333\n",
      " 0.05573656 0.05615571 0.05615742 0.05615571 0.05573656 0.05753333\n",
      " 0.05843434 0.06109138 0.06228692 0.06428007 0.05640297]\n"
     ]
    },
    {
     "data": {
      "image/png": "[encoded data removed]",
      "text/plain": [
       "<Figure size 432x288 with 1 Axes>"
      ]
     },
     "metadata": {
      "needs_background": "light"
     },
     "output_type": "display_data"
    }
   ],
   "source": [
    "print Pvec\n",
    "plt.plot(Pvec,label='initial')\n",
    "Pvec=linalg.cg(RDmat,np.zeros(len(Pvec)),x0=Pvec)[0]\n",
    "print Pvec\n",
    "np.sum(Pvec)\n",
    "plt.plot(Pvec,label='final')\n",
    "plt.legend()\n",
    "plt.show()"
   ]
  },
  {
   "cell_type": "code",
   "execution_count": 12,
   "metadata": {},
   "outputs": [
    {
     "data": {
      "image/png": "[encoded data removed]",
      "text/plain": [
       "<Figure size 432x288 with 1 Axes>"
      ]
     },
     "metadata": {
      "needs_background": "light"
     },
     "output_type": "display_data"
    }
   ],
   "source": [
    "plt.plot(-np.log(Pvec))\n",
    "plt.show()"
   ]
  },
  {
   "cell_type": "markdown",
   "metadata": {},
   "source": [
    "Qualitatively, the results give us what we expect, although the probability range is quite off. Nevertheless we see a minimal probability at the well center and maxima at the edges.\n",
    "\n",
    "Next, lets see what we get from the langevin dynamics version.\n",
    "\n",
    "# Langevin Dynamics Results"
   ]
  },
  {
   "cell_type": "code",
   "execution_count": 88,
   "metadata": {},
   "outputs": [
    {
     "data": {
      "text/html": [
       "<div>\n",
       "<style scoped>\n",
       "    .dataframe tbody tr th:only-of-type {\n",
       "        vertical-align: middle;\n",
       "    }\n",
       "\n",
       "    .dataframe tbody tr th {\n",
       "        vertical-align: top;\n",
       "    }\n",
       "\n",
       "    .dataframe thead th {\n",
       "        text-align: right;\n",
       "    }\n",
       "</style>\n",
       "<table border=\"1\" class=\"dataframe\">\n",
       "  <thead>\n",
       "    <tr style=\"text-align: right;\">\n",
       "      <th></th>\n",
       "      <th>Window</th>\n",
       "      <th>Frame</th>\n",
       "      <th>Time</th>\n",
       "      <th>X</th>\n",
       "      <th>V</th>\n",
       "      <th>F</th>\n",
       "      <th>E</th>\n",
       "    </tr>\n",
       "  </thead>\n",
       "  <tbody>\n",
       "    <tr>\n",
       "      <th>0</th>\n",
       "      <td>0</td>\n",
       "      <td>499</td>\n",
       "      <td>0.499</td>\n",
       "      <td>-4.248000</td>\n",
       "      <td>0.446072</td>\n",
       "      <td>0.531000</td>\n",
       "      <td>0.801735</td>\n",
       "    </tr>\n",
       "    <tr>\n",
       "      <th>1</th>\n",
       "      <td>0</td>\n",
       "      <td>999</td>\n",
       "      <td>0.999</td>\n",
       "      <td>-4.023418</td>\n",
       "      <td>0.896501</td>\n",
       "      <td>0.502927</td>\n",
       "      <td>1.318039</td>\n",
       "    </tr>\n",
       "    <tr>\n",
       "      <th>2</th>\n",
       "      <td>0</td>\n",
       "      <td>1499</td>\n",
       "      <td>1.499</td>\n",
       "      <td>-3.616782</td>\n",
       "      <td>-1.602452</td>\n",
       "      <td>-19.530557</td>\n",
       "      <td>5.003405</td>\n",
       "    </tr>\n",
       "    <tr>\n",
       "      <th>3</th>\n",
       "      <td>0</td>\n",
       "      <td>1999</td>\n",
       "      <td>1.999</td>\n",
       "      <td>-3.721527</td>\n",
       "      <td>1.980668</td>\n",
       "      <td>-3.805804</td>\n",
       "      <td>4.836817</td>\n",
       "    </tr>\n",
       "    <tr>\n",
       "      <th>4</th>\n",
       "      <td>0</td>\n",
       "      <td>2499</td>\n",
       "      <td>2.499</td>\n",
       "      <td>-4.359730</td>\n",
       "      <td>-1.311016</td>\n",
       "      <td>17.004509</td>\n",
       "      <td>3.296854</td>\n",
       "    </tr>\n",
       "  </tbody>\n",
       "</table>\n",
       "</div>"
      ],
      "text/plain": [
       "   Window  Frame   Time         X         V          F         E\n",
       "0       0    499  0.499 -4.248000  0.446072   0.531000  0.801735\n",
       "1       0    999  0.999 -4.023418  0.896501   0.502927  1.318039\n",
       "2       0   1499  1.499 -3.616782 -1.602452 -19.530557  5.003405\n",
       "3       0   1999  1.999 -3.721527  1.980668  -3.805804  4.836817\n",
       "4       0   2499  2.499 -4.359730 -1.311016  17.004509  3.296854"
      ]
     },
     "execution_count": 88,
     "metadata": {},
     "output_type": "execute_result"
    }
   ],
   "source": [
    "simDataTable=pd.read_csv(\"Test_Simulation_Milestoning_Data.lvd.csv\")\n",
    "simDataTable.head()"
   ]
  },
  {
   "cell_type": "markdown",
   "metadata": {},
   "source": [
    "Now we need to bin the coordinate data.\n",
    "For this we need to know the window bounds"
   ]
  },
  {
   "cell_type": "code",
   "execution_count": 89,
   "metadata": {},
   "outputs": [],
   "source": [
    "windowWidth=.5\n",
    "windowK=150.0\n",
    "windowCenters=np.arange(-8,9)*windowWidth\n",
    "winMaxs=windowCenters+windowWidth/2.0\n",
    "winMins=windowCenters-windowWidth/2.0"
   ]
  },
  {
   "cell_type": "markdown",
   "metadata": {},
   "source": [
    "For the one dimensional case, assingin bin indices can be easily accomplished by the numpy command 'digitize'\n",
    "\n",
    "The example below illustartes this.\n",
    "\n",
    "Note that we need two additional 'bins'.\n",
    "Bin zero will account for anything to the left of the leftmost window edge and the last bin will capture anything to the right of the rightmost window edge.\n",
    "\n",
    "We then use didgitize to apply this bin indexing to an array of numbers from -5 to 5 spaced .25 units apart."
   ]
  },
  {
   "cell_type": "code",
   "execution_count": 90,
   "metadata": {},
   "outputs": [
    {
     "name": "stdout",
     "output_type": "stream",
     "text": [
      "[(1, (-4.25, -3.75)), (2, (-3.75, -3.25)), (3, (-3.25, -2.75)), (4, (-2.75, -2.25)), (5, (-2.25, -1.75)), (6, (-1.75, -1.25)), (7, (-1.25, -0.75)), (8, (-0.75, -0.25)), (9, (-0.25, 0.25)), (10, (0.25, 0.75)), (11, (0.75, 1.25)), (12, (1.25, 1.75)), (13, (1.75, 2.25)), (14, (2.25, 2.75)), (15, (2.75, 3.25)), (16, (3.25, 3.75)), (17, (3.75, 4.25))]\n",
      "[(-5.0, 0), (-4.75, 0), (-4.5, 0), (-4.25, 1), (-4.0, 1), (-3.75, 2), (-3.5, 2), (-3.25, 3), (-3.0, 3), (-2.75, 4), (-2.5, 4), (-2.25, 5), (-2.0, 5), (-1.75, 6), (-1.5, 6), (-1.25, 7), (-1.0, 7), (-0.75, 8), (-0.5, 8), (-0.25, 9), (0.0, 9), (0.25, 10), (0.5, 10), (0.75, 11), (1.0, 11), (1.25, 12), (1.5, 12), (1.75, 13), (2.0, 13), (2.25, 14), (2.5, 14), (2.75, 15), (3.0, 15), (3.25, 16), (3.5, 16), (3.75, 17), (4.0, 17), (4.25, 18), (4.5, 18), (4.75, 18), (5.0, 18)]\n"
     ]
    }
   ],
   "source": [
    "xvals=np.arange(-20,21)*.25\n",
    "print zip(np.arange(len(windowCenters))+1,zip(winMins,winMaxs))\n",
    "print zip(xvals,np.digitize(xvals,bins=np.concatenate([winMins,[winMaxs[-1]]])))"
   ]
  },
  {
   "cell_type": "markdown",
   "metadata": {},
   "source": [
    "We can now use the above procedure to bin our X coordinate data for each window.\n",
    "\n",
    "We can make use of digitize as above. We note that if you give digitize N bin edges, it will give you N+1 bins. Also, by default it assumes the edges are the left hand sides of each bin.\n",
    "\n",
    "This means:\n",
    "    1. We want to give nWindows-1 bin edges\n",
    "    2. We want to give it the window minima (left hand edges)"
   ]
  },
  {
   "cell_type": "code",
   "execution_count": 91,
   "metadata": {},
   "outputs": [
    {
     "data": {
      "text/html": [
       "<div>\n",
       "<style scoped>\n",
       "    .dataframe tbody tr th:only-of-type {\n",
       "        vertical-align: middle;\n",
       "    }\n",
       "\n",
       "    .dataframe tbody tr th {\n",
       "        vertical-align: top;\n",
       "    }\n",
       "\n",
       "    .dataframe thead th {\n",
       "        text-align: right;\n",
       "    }\n",
       "</style>\n",
       "<table border=\"1\" class=\"dataframe\">\n",
       "  <thead>\n",
       "    <tr style=\"text-align: right;\">\n",
       "      <th></th>\n",
       "      <th>Window</th>\n",
       "      <th>Frame</th>\n",
       "      <th>Time</th>\n",
       "      <th>X</th>\n",
       "      <th>V</th>\n",
       "      <th>F</th>\n",
       "      <th>E</th>\n",
       "      <th>X_Index</th>\n",
       "    </tr>\n",
       "  </thead>\n",
       "  <tbody>\n",
       "    <tr>\n",
       "      <th>0</th>\n",
       "      <td>0</td>\n",
       "      <td>499</td>\n",
       "      <td>0.499</td>\n",
       "      <td>-4.248000</td>\n",
       "      <td>0.446072</td>\n",
       "      <td>0.531000</td>\n",
       "      <td>0.801735</td>\n",
       "      <td>0</td>\n",
       "    </tr>\n",
       "    <tr>\n",
       "      <th>1</th>\n",
       "      <td>0</td>\n",
       "      <td>999</td>\n",
       "      <td>0.999</td>\n",
       "      <td>-4.023418</td>\n",
       "      <td>0.896501</td>\n",
       "      <td>0.502927</td>\n",
       "      <td>1.318039</td>\n",
       "      <td>0</td>\n",
       "    </tr>\n",
       "    <tr>\n",
       "      <th>2</th>\n",
       "      <td>0</td>\n",
       "      <td>1499</td>\n",
       "      <td>1.499</td>\n",
       "      <td>-3.616782</td>\n",
       "      <td>-1.602452</td>\n",
       "      <td>-19.530557</td>\n",
       "      <td>5.003405</td>\n",
       "      <td>1</td>\n",
       "    </tr>\n",
       "    <tr>\n",
       "      <th>3</th>\n",
       "      <td>0</td>\n",
       "      <td>1999</td>\n",
       "      <td>1.999</td>\n",
       "      <td>-3.721527</td>\n",
       "      <td>1.980668</td>\n",
       "      <td>-3.805804</td>\n",
       "      <td>4.836817</td>\n",
       "      <td>1</td>\n",
       "    </tr>\n",
       "    <tr>\n",
       "      <th>4</th>\n",
       "      <td>0</td>\n",
       "      <td>2499</td>\n",
       "      <td>2.499</td>\n",
       "      <td>-4.359730</td>\n",
       "      <td>-1.311016</td>\n",
       "      <td>17.004509</td>\n",
       "      <td>3.296854</td>\n",
       "      <td>0</td>\n",
       "    </tr>\n",
       "  </tbody>\n",
       "</table>\n",
       "</div>"
      ],
      "text/plain": [
       "   Window  Frame   Time         X         V          F         E  X_Index\n",
       "0       0    499  0.499 -4.248000  0.446072   0.531000  0.801735        0\n",
       "1       0    999  0.999 -4.023418  0.896501   0.502927  1.318039        0\n",
       "2       0   1499  1.499 -3.616782 -1.602452 -19.530557  5.003405        1\n",
       "3       0   1999  1.999 -3.721527  1.980668  -3.805804  4.836817        1\n",
       "4       0   2499  2.499 -4.359730 -1.311016  17.004509  3.296854        0"
      ]
     },
     "execution_count": 91,
     "metadata": {},
     "output_type": "execute_result"
    }
   ],
   "source": [
    "binEdges=winMins[1:] #np.concatenate([winMins,[winMaxs[-1]]])\n",
    "digitize_kwds={\"bins\":binEdges}\n",
    "simDataTable['X_Index']=simDataTable.X.apply(np.digitize,**digitize_kwds)\n",
    "simDataTable.head()"
   ]
  },
  {
   "cell_type": "markdown",
   "metadata": {},
   "source": [
    "Before proceeding, it is a good idea to visualize the results.\n",
    "\n",
    "We can make use of a hand python widget to allow us to easily select a given window to view.\n",
    "\n",
    "The red line shows the actual observed values of $x$\n",
    "\n",
    "The orange dots indicate the window bin that x was assigned into for the given frame.\n",
    "\n",
    "The black horizontal lines indicate the edges of the window bin.\n",
    "\n",
    "An intersting note is that there are no transitions on the negative side of window 0 and no\n",
    "positive side of window 16. This essentially means that we count anything to the right of bin 16's right edge as part of bin 16 and anything to the left of bin 0's left edge as part of bin0"
   ]
  },
  {
   "cell_type": "code",
   "execution_count": 92,
   "metadata": {
    "scrolled": false
   },
   "outputs": [
    {
     "data": {
      "application/vnd.jupyter.widget-view+json": {
       "model_id": "6ba6617edf4644fb95bff1ebd7bd1ec1",
       "version_major": 2,
       "version_minor": 0
      },
      "text/plain": [
       "aW50ZXJhY3RpdmUoY2hpbGRyZW49KEludFNsaWRlcih2YWx1ZT04LCBkZXNjcmlwdGlvbj11J3dpbmRvdycsIG1heD0xNiksIE91dHB1dCgpKSwgX2RvbV9jbGFzc2VzPSh1J3dpZGdldC1pbnTigKY=\n"
      ]
     },
     "metadata": {},
     "output_type": "display_data"
    }
   ],
   "source": [
    "@interact\n",
    "def plot_window(window=(simDataTable.Window.min(),simDataTable.Window.max(),1)):\n",
    "    plt.figure(figsize=(12,9))\n",
    "    plt.rcParams['axes.facecolor']='grey'\n",
    "    nWindows=len(simDataTable.Window.unique())\n",
    "    plotData=simDataTable[simDataTable.Window==window]\n",
    "    plt.scatter(plotData.Time,\n",
    "                (plotData.X_Index-(nWindows-1)/2.)*windowWidth,\n",
    "                c='orange',#Spectral11[window%11],\n",
    "                s=4,\n",
    "                label='Window_%02g'%window)\n",
    "    plt.plot(plotData.Time,\n",
    "             plotData.X,\n",
    "             'r',\n",
    "             #Spectral11[window%11],\n",
    "             label='Window_%02g'%window)\n",
    "    plt.plot(plotData.Time,\n",
    "             [winMins[window]]*len(plotData),c='k')\n",
    "    plt.plot(plotData.Time,\n",
    "             [winMaxs[window]]*len(plotData),c='k')\n",
    "    plt.legend()\n",
    "    plt.grid()\n",
    "    plt.show()"
   ]
  },
  {
   "cell_type": "markdown",
   "metadata": {},
   "source": [
    "We are now ready to compute the escape matrix.\n",
    "\n",
    "This is an Nwindow by Nwindow matrix with a diagonal of 0.\n",
    "The off diagonals represent the probability of transitioning form one window to another.\n",
    "\n",
    "I.e.\n",
    "$$M_{i,j}=N_{i->j}/N_{i}$$\n",
    "where $M_{i,j}$ is an element of the escape matrix, $N_{i->j}$ is the number of frames where $x$ is observed in bin $j$ when it was in bin $i$ on the previous frame, and $N_{i}$ is the number of frames where $x$ is observed in bin $i$ as computed from the simulation with the milestoning well for bin $i$"
   ]
  },
  {
   "cell_type": "code",
   "execution_count": 93,
   "metadata": {},
   "outputs": [
    {
     "name": "stdout",
     "output_type": "stream",
     "text": [
      "--- --- ---\n",
      "escapeMatrix entry for window 0:\n",
      "[0.000, 0.228, 0.000, 0.000, 0.000, 0.000, 0.000, 0.000, 0.000, 0.000, 0.000, 0.000, 0.000, 0.000, 0.000, 0.000, 0.000]\n",
      "Probability of being inside window (1-M(i,i)+1-M(i,i-1)): 0.772\n",
      "--- --- ---\n",
      "escapeMatrix entry for window 1:\n",
      "[0.158, 0.000, 0.233, 0.000, 0.000, 0.000, 0.000, 0.000, 0.000, 0.000, 0.000, 0.000, 0.000, 0.000, 0.000, 0.000, 0.000]\n",
      "Ratio of left to right exit frequencies: 0.000\n",
      "Probability of being inside window (1-M(i,i)+1-M(i,i-1)): 0.608\n",
      "--- --- ---\n",
      "escapeMatrix entry for window 2:\n",
      "[0.000, 0.100, 0.000, 0.238, 0.000, 0.000, 0.000, 0.000, 0.000, 0.000, 0.000, 0.000, 0.000, 0.000, 0.000, 0.000, 0.000]\n",
      "Ratio of left to right exit frequencies: 0.679\n",
      "Probability of being inside window (1-M(i,i)+1-M(i,i-1)): 0.662\n",
      "--- --- ---\n",
      "escapeMatrix entry for window 3:\n",
      "[0.000, 0.000, 0.172, 0.000, 0.180, 0.000, 0.000, 0.000, 0.000, 0.000, 0.000, 0.000, 0.000, 0.000, 0.000, 0.000, 0.000]\n",
      "Ratio of left to right exit frequencies: 0.419\n",
      "Probability of being inside window (1-M(i,i)+1-M(i,i-1)): 0.648\n",
      "--- --- ---\n",
      "escapeMatrix entry for window 4:\n",
      "[0.000, 0.000, 0.000, 0.183, 0.000, 0.168, 0.000, 0.000, 0.000, 0.000, 0.000, 0.000, 0.000, 0.000, 0.000, 0.000, 0.000]\n",
      "Ratio of left to right exit frequencies: 0.955\n",
      "Probability of being inside window (1-M(i,i)+1-M(i,i-1)): 0.649\n",
      "--- --- ---\n",
      "escapeMatrix entry for window 5:\n",
      "[0.000, 0.000, 0.000, 0.000, 0.237, 0.000, 0.195, 0.000, 0.000, 0.000, 0.000, 0.000, 0.000, 0.000, 0.000, 0.000, 0.000]\n",
      "Ratio of left to right exit frequencies: 1.091\n",
      "Probability of being inside window (1-M(i,i)+1-M(i,i-1)): 0.568\n",
      "--- --- ---\n",
      "escapeMatrix entry for window 6:\n",
      "[0.000, 0.000, 0.000, 0.000, 0.000, 0.150, 0.000, 0.165, 0.000, 0.000, 0.000, 0.000, 0.000, 0.000, 0.000, 0.000, 0.000]\n",
      "Ratio of left to right exit frequencies: 1.217\n",
      "Probability of being inside window (1-M(i,i)+1-M(i,i-1)): 0.685\n",
      "--- --- ---\n",
      "escapeMatrix entry for window 7:\n",
      "[0.000, 0.000, 0.000, 0.000, 0.000, 0.000, 0.135, 0.000, 0.198, 0.000, 0.000, 0.000, 0.000, 0.000, 0.000, 0.000, 0.000]\n",
      "Ratio of left to right exit frequencies: 0.905\n",
      "Probability of being inside window (1-M(i,i)+1-M(i,i-1)): 0.667\n",
      "--- --- ---\n",
      "escapeMatrix entry for window 8:\n",
      "[0.000, 0.000, 0.000, 0.000, 0.000, 0.000, 0.000, 0.155, 0.000, 0.186, 0.000, 0.000, 0.000, 0.000, 0.000, 0.000, 0.000]\n",
      "Ratio of left to right exit frequencies: 0.680\n",
      "Probability of being inside window (1-M(i,i)+1-M(i,i-1)): 0.659\n",
      "--- --- ---\n",
      "escapeMatrix entry for window 9:\n",
      "[0.000, 0.000, 0.000, 0.000, 0.000, 0.000, 0.000, 0.000, 0.250, 0.000, 0.217, 0.000, 0.000, 0.000, 0.000, 0.000, 0.000]\n",
      "Ratio of left to right exit frequencies: 0.833\n",
      "Probability of being inside window (1-M(i,i)+1-M(i,i-1)): 0.533\n",
      "--- --- ---\n",
      "escapeMatrix entry for window 10:\n",
      "[0.000, 0.000, 0.000, 0.000, 0.000, 0.000, 0.000, 0.000, 0.000, 0.180, 0.000, 0.254, 0.000, 0.000, 0.000, 0.000, 0.000]\n",
      "Ratio of left to right exit frequencies: 1.154\n",
      "Probability of being inside window (1-M(i,i)+1-M(i,i-1)): 0.566\n",
      "--- --- ---\n",
      "escapeMatrix entry for window 11:\n",
      "[0.000, 0.000, 0.000, 0.000, 0.000, 0.000, 0.000, 0.000, 0.000, 0.000, 0.175, 0.000, 0.151, 0.000, 0.000, 0.000, 0.000]\n",
      "Ratio of left to right exit frequencies: 0.710\n",
      "Probability of being inside window (1-M(i,i)+1-M(i,i-1)): 0.675\n",
      "--- --- ---\n",
      "escapeMatrix entry for window 12:\n",
      "[0.000, 0.000, 0.000, 0.000, 0.000, 0.000, 0.000, 0.000, 0.000, 0.000, 0.000, 0.183, 0.000, 0.160, 0.000, 0.000, 0.000]\n",
      "Ratio of left to right exit frequencies: 1.158\n",
      "Probability of being inside window (1-M(i,i)+1-M(i,i-1)): 0.656\n",
      "--- --- ---\n",
      "escapeMatrix entry for window 13:\n",
      "[0.000, 0.000, 0.000, 0.000, 0.000, 0.000, 0.000, 0.000, 0.000, 0.000, 0.000, 0.000, 0.176, 0.000, 0.136, 0.000, 0.000]\n",
      "Ratio of left to right exit frequencies: 1.143\n",
      "Probability of being inside window (1-M(i,i)+1-M(i,i-1)): 0.688\n",
      "--- --- ---\n",
      "escapeMatrix entry for window 14:\n",
      "[0.000, 0.000, 0.000, 0.000, 0.000, 0.000, 0.000, 0.000, 0.000, 0.000, 0.000, 0.000, 0.000, 0.140, 0.000, 0.155, 0.000]\n",
      "Ratio of left to right exit frequencies: 1.294\n",
      "Probability of being inside window (1-M(i,i)+1-M(i,i-1)): 0.705\n",
      "--- --- ---\n",
      "escapeMatrix entry for window 15:\n",
      "[0.000, 0.000, 0.000, 0.000, 0.000, 0.000, 0.000, 0.000, 0.000, 0.000, 0.000, 0.000, 0.000, 0.000, 0.242, 0.000, 0.121]\n",
      "Ratio of left to right exit frequencies: 0.900\n",
      "Probability of being inside window (1-M(i,i)+1-M(i,i-1)): 0.637\n",
      "--- --- ---\n",
      "escapeMatrix entry for window 16:\n",
      "[0.000, 0.000, 0.000, 0.000, 0.000, 0.000, 0.000, 0.000, 0.000, 0.000, 0.000, 0.000, 0.000, 0.000, 0.000, 0.126, 0.000]\n",
      "Probability of being inside window (1-M(i,i)+1-M(i,i-1)): 0.874\n",
      "--- --- ---\n"
     ]
    },
    {
     "data": {
      "image/png": "[encoded data removed]",
      "text/plain": [
       "<Figure size 432x288 with 1 Axes>"
      ]
     },
     "metadata": {
      "needs_background": "light"
     },
     "output_type": "display_data"
    }
   ],
   "source": [
    "#note that our window indexing starts at 0\n",
    "#this causes a problem for boolean operations since 0 evaluates to false\n",
    "#while non-zero evaluates as true.\n",
    "#moreover, our 'bins' span from -1 to nWindows+1...\n",
    "#thus we will temporarily add 2 to all window and X_index values\n",
    "#this way our X_index will span values from 1 to nWindows+2\n",
    "windows=np.sort(simDataTable.Window.unique())\n",
    "xbins=np.sort(simDataTable.X_Index.unique())\n",
    "nBins=len(xbins)\n",
    "escapeMat=np.zeros((nBins,nBins))\n",
    "pCenters=np.zeros(len(windows))\n",
    "escapeRatios=np.zeros(len(windows))\n",
    "#iVal->escape matrix row index\n",
    "#xbin->window\n",
    "#cVal->place holder for bin index with indexing starting at 1\n",
    "for iVal,xbin in enumerate(xbins):\n",
    "    if xbin in windows:\n",
    "        tempDat=simDataTable[simDataTable.Window==xbin]\n",
    "        cVal=xbin+1\n",
    "        binVec=np.array(tempDat.X_Index+1)\n",
    "        binC=(binVec==cVal)\n",
    "        binT=(1-binC[1:])*binC[:-1]*binVec[1:]\n",
    "        tCounts=np.unique(binT,return_counts=True)\n",
    "        transInds=tCounts[0][1:] #first entry should always be for binT==0\n",
    "        transCounts=tCounts[1][1:]\n",
    "        cCount=np.sum(binC)\n",
    "        for iInd,Ind in enumerate(transInds):\n",
    "            escapeMat[iVal,Ind-1]=1.*transCounts[iInd]/cCount\n",
    "        print \"--- --- ---\"\n",
    "        print \"escapeMatrix entry for window %g:\"%xbin\n",
    "        print '['+', '.join(map(lambda x: '%.3f'%x,escapeMat[iVal,:]))+']'\n",
    "        if (iVal > 0) & (iVal < (len(windows)-1)):\n",
    "            escapeRatios[iVal]=1.*escapeMat[iVal,iVal-1]/escapeMat[iVal,iVal+1]\n",
    "            print 'Ratio of left to right exit frequencies: %.3f'%(\n",
    "                escapeRatios[iVal-1])\n",
    "        pCenters[iVal]=1.0-np.sum(escapeMat[iVal,:])\n",
    "        print \"Probability of being inside window (1-M(i,i)+1-M(i,i-1)): %.3f\"%(\n",
    "            pCenters[iVal])\n",
    "print \"--- --- ---\"\n",
    "\n",
    "plt.imshow(escapeMat,extent=(-1,nBins,-1,nBins))\n",
    "plt.show()"
   ]
  },
  {
   "cell_type": "code",
   "execution_count": 94,
   "metadata": {},
   "outputs": [
    {
     "data": {
      "text/plain": [
       "[]"
      ]
     },
     "execution_count": 94,
     "metadata": {},
     "output_type": "execute_result"
    },
    {
     "data": {
      "image/png": "[encoded data removed]",
      "text/plain": [
       "<Figure size 432x288 with 1 Axes>"
      ]
     },
     "metadata": {
      "needs_background": "light"
     },
     "output_type": "display_data"
    }
   ],
   "source": [
    "plt.plot(pCenters)\n",
    "plt.plot()"
   ]
  },
  {
   "cell_type": "code",
   "execution_count": 98,
   "metadata": {},
   "outputs": [
    {
     "name": "stdout",
     "output_type": "stream",
     "text": [
      "[1 2 2 2 2 2 2 2 2 2 2 2 2 2 2 2 1]\n",
      "[False False False False False False False False False False False False\n",
      " False False False False False]\n"
     ]
    },
    {
     "data": {
      "text/plain": [
       "0"
      ]
     },
     "execution_count": 98,
     "metadata": {},
     "output_type": "execute_result"
    }
   ],
   "source": [
    "#make sure that there are no milestones where x enters a window that is\n",
    "#not directly adjacent to the milestone center\n",
    "print np.sum(np.abs(escapeMat)>0,axis=1)\n",
    "print np.sum(np.abs(escapeMat)>0,axis=1)>2\n",
    "np.sum(np.sum(np.abs(escapeMat)>0,axis=1)>2)"
   ]
  },
  {
   "cell_type": "code",
   "execution_count": 99,
   "metadata": {},
   "outputs": [
    {
     "data": {
      "image/png": "[encoded data removed]",
      "text/plain": [
       "<Figure size 432x288 with 1 Axes>"
      ]
     },
     "metadata": {
      "needs_background": "light"
     },
     "output_type": "display_data"
    },
    {
     "data": {
      "image/png": "[encoded data removed]",
      "text/plain": [
       "<Figure size 432x288 with 1 Axes>"
      ]
     },
     "metadata": {
      "needs_background": "light"
     },
     "output_type": "display_data"
    }
   ],
   "source": [
    "xVals=np.linspace(-4.5,4.5,100)\n",
    "potFun=lambda x: (x/4.0)**2\n",
    "\n",
    "potDer=lambda x: -x/(2*4.0**2)\n",
    "\n",
    "yVals=potFun(xVals)\n",
    "\n",
    "plt.plot(xVals,yVals)\n",
    "plt.plot(windowCenters,-np.log(pCenters)+np.log(np.min(pCenters)),'r')\n",
    "plt.show()\n",
    "\n",
    "plt.plot(xVals,potDer(xVals))\n",
    "plt.show()"
   ]
  },
  {
   "cell_type": "markdown",
   "metadata": {},
   "source": [
    "We now need to use the escape matrix to set up and solve a system of linear equations to find the equilibrium probability of being in each cell.\n",
    "\n",
    "From \"Maragliano, L. et. al. <I>J. Chem. Theory Comput.</I> 2009, 5; DOI:10.1021/ct900279z\" we have:\n",
    "\n",
    "\\begin{equation*}\n",
    "    \\sum\\limits_{\\gamma=1,\\gamma\\neq\\alpha}^{K}\\pi_\\gamma\\nu_{\\gamma\\alpha}=\n",
    "    \\sum\\limits_{\\gamma=1,\\gamma\\neq\\alpha}^{K}\\pi_\\alpha\\nu_{\\alpha\\gamma}; \n",
    "    \\label{eq:eq_flux_equation} \\tag{1}\n",
    "\\end{equation*}\n",
    "\n",
    "\\begin{equation*}\n",
    "  \\sum\\limits_{\\alpha=1}^{K}\\pi_\\alpha=1\n",
    "  \\label{eq:eq_probability_equation} \\tag{2}\n",
    "\\end{equation*}\n",
    "  \n",
    "where $\\nu_{\\alpha\\gamma}$ is the transition frequency (escape matrix entry) for moving from cell $\\alpha$ to cell (window) $\\gamma$ when starting from cell $\\alpha$, $K$ is the total number of cells, and $\\pi_\\alpha$ is the equilibrium probability (which we are trying to calculate) for cell $\\alpha$\n",
    "\n",
    "To make this a little more ammenable for numerical solution here, we will recast this in a matrix vector form.\n",
    "\n",
    "Let $\\matrix{R}$ be the escape matrix such that $R_{i,i}=0$ and $R_{i,j}$ is corresponding element of our escape matrix. Thus $R_{i,j}=\\nu_{\\alpha\\gamma}$ for $\\alpha=i$ and $\\gamma=j$.\n",
    "\n",
    "Next, let $\\overline{\\pi}$ be the vector of equilibrium probabilities being computed.\n",
    "\n",
    "We may then write the left hand side of equation (\\ref{eq:eq_flux_equation}) as $\\matrix{R}\\overline{\\pi}$\n",
    "\n",
    "For the right hand side of equation (\\ref{eq:eq_flux_equation}) we first define a diagonal matrix $\\matrix{D}$ with entries $D_{i,i}$ equal to the row sums of matrix $\\matrix{R}$.\n",
    "\n",
    "E.g. $D_{i,i}=\\sum\\limits_{j}R_{i,j}$\n",
    "\n",
    "We may then recast the right hand side of (\\ref{eq:eq_flux_equation}) as $\\matrix{D}\\overline{\\pi}$\n",
    "\n",
    "Putting this together equation (\\ref{eq:eq_flux_equation}) becomes:\n",
    "\n",
    "\\begin{equation*}\n",
    "    \\matrix{R}\\overline{\\pi}=\\matrix{D}\\overline{\\pi}\n",
    "    \\label{eq:eq_flux_matVec} \\tag{3}\n",
    "\\end{equation*}\n",
    "\n",
    "we may then write:\n",
    "\\begin{equation*}\n",
    "    \\left(\\matrix{R}-\\matrix{D}\\right)\\overline{\\pi}=0\n",
    "    \\label{eq:eq_flux_a} \\tag{3a}\n",
    "\\end{equation*}"
   ]
  },
  {
   "cell_type": "code",
   "execution_count": 100,
   "metadata": {},
   "outputs": [
    {
     "data": {
      "text/plain": [
       "<matplotlib.image.AxesImage at 0xa1a0742d0>"
      ]
     },
     "execution_count": 100,
     "metadata": {},
     "output_type": "execute_result"
    },
    {
     "data": {
      "image/png": "[encoded data removed]",
      "text/plain": [
       "<Figure size 432x288 with 1 Axes>"
      ]
     },
     "metadata": {
      "needs_background": "light"
     },
     "output_type": "display_data"
    }
   ],
   "source": [
    "Rmat=np.matrix(escapeMat)\n",
    "Dmat=np.matrix(np.diag(np.sum(escapeMat,axis=0)))\n",
    "Pvec=pCenters #use this as a starting guess\n",
    "Pvec=Pvec/np.sum(Pvec)\n",
    "\n",
    "RDmat=Rmat-Dmat\n",
    "plt.imshow(RDmat)"
   ]
  },
  {
   "cell_type": "code",
   "execution_count": 101,
   "metadata": {},
   "outputs": [
    {
     "name": "stdout",
     "output_type": "stream",
     "text": [
      "[0.06862569 0.05406617 0.05879482 0.05755078 0.05766757 0.05046343\n",
      " 0.06088349 0.0592506  0.05856164 0.04740048 0.05026588 0.05995596\n",
      " 0.05834601 0.06114662 0.0626954  0.05662255 0.07770293]\n",
      "[0.2336024  0.15844226 0.06393182 0.04354705 0.04105797 0.0537175\n",
      " 0.03830655 0.02961358 0.02321502 0.03243186 0.02919558 0.0221563\n",
      " 0.03032102 0.03614076 0.03908209 0.06182063 0.0634176 ]\n"
     ]
    },
    {
     "data": {
      "image/png": "[encoded data removed]",
      "text/plain": [
       "<Figure size 432x288 with 1 Axes>"
      ]
     },
     "metadata": {
      "needs_background": "light"
     },
     "output_type": "display_data"
    }
   ],
   "source": [
    "print Pvec\n",
    "plt.plot(Pvec,label='initial')\n",
    "Pvec=linalg.cg(RDmat,np.zeros(len(Pvec)),x0=Pvec)[0]\n",
    "print Pvec\n",
    "np.sum(Pvec)\n",
    "plt.plot(Pvec,label='final')\n",
    "plt.legend()\n",
    "plt.show()"
   ]
  },
  {
   "cell_type": "code",
   "execution_count": 102,
   "metadata": {},
   "outputs": [
    {
     "data": {
      "image/png": "[encoded data removed]",
      "text/plain": [
       "<Figure size 432x288 with 1 Axes>"
      ]
     },
     "metadata": {
      "needs_background": "light"
     },
     "output_type": "display_data"
    }
   ],
   "source": [
    "plt.plot(-np.log(Pvec))\n",
    "plt.show()"
   ]
  },
  {
   "cell_type": "code",
   "execution_count": 104,
   "metadata": {},
   "outputs": [
    {
     "data": {
      "text/plain": [
       "array([0.7721519 , 0.60833333, 0.66153846, 0.64754098, 0.64885496,\n",
       "       0.56779661, 0.68503937, 0.66666667, 0.65891473, 0.53333333,\n",
       "       0.56557377, 0.67460317, 0.65648855, 0.688     , 0.70542636,\n",
       "       0.63709677, 0.87428571])"
      ]
     },
     "execution_count": 104,
     "metadata": {},
     "output_type": "execute_result"
    }
   ],
   "source": [
    "1-np.sum(escapeMat,axis=1)"
   ]
  },
  {
   "cell_type": "code",
   "execution_count": 105,
   "metadata": {},
   "outputs": [
    {
     "data": {
      "image/png": "[encoded data removed]",
      "text/plain": [
       "<Figure size 432x288 with 1 Axes>"
      ]
     },
     "metadata": {
      "needs_background": "light"
     },
     "output_type": "display_data"
    },
    {
     "name": "stdout",
     "output_type": "stream",
     "text": [
      "[0.06862569 0.05406617 0.05879482 0.05755078 0.05766757 0.05046343\n",
      " 0.06088349 0.0592506  0.05856164 0.04740048 0.05026588 0.05995596\n",
      " 0.05834601 0.06114662 0.0626954  0.05662255 0.07770293]\n",
      "[-3.99553785e-06  2.45101260e-06  9.91878562e-07  3.49327223e-06\n",
      " -4.89471824e-06  6.68132009e-06 -1.01938753e-06 -3.49094713e-06\n",
      "  6.26281045e-06 -1.26738065e-05  1.04522541e-05 -5.10444956e-06\n",
      "  5.14991712e-06  4.27058079e-07  2.64770583e-06 -3.12617004e-06\n",
      "  1.88617886e-06]\n"
     ]
    },
    {
     "data": {
      "image/png": "[encoded data removed]",
      "text/plain": [
       "<Figure size 432x288 with 1 Axes>"
      ]
     },
     "metadata": {
      "needs_background": "light"
     },
     "output_type": "display_data"
    }
   ],
   "source": [
    "Rmat=np.matrix(escapeMat)\n",
    "Dmat=np.matrix(np.diag(1-np.sum(escapeMat,axis=1)))\n",
    "Pvec=pCenters #use this as a starting guess\n",
    "Pvec=Pvec/np.sum(Pvec)\n",
    "\n",
    "RDmat=Rmat+Dmat\n",
    "plt.imshow(RDmat)\n",
    "plt.show()\n",
    "\n",
    "testVec=copy.deepcopy(Pvec)\n",
    "print testVec\n",
    "plt.plot(testVec,label='initial')\n",
    "testVec=linalg.cg(RDmat,np.zeros(len(testVec)),x0=testVec)[0]\n",
    "print testVec\n",
    "np.sum(testVec)\n",
    "plt.plot(testVec,label='final')\n",
    "plt.legend()\n",
    "plt.show()"
   ]
  },
  {
   "cell_type": "code",
   "execution_count": 109,
   "metadata": {},
   "outputs": [
    {
     "name": "stdout",
     "output_type": "stream",
     "text": [
      "[1.         0.99152131 0.97078592 0.93770417 0.90368243 0.86258899\n",
      " 0.81827195 0.74867035 0.70057287 0.60233953 0.53136383 0.48923744\n",
      " 0.4290605  0.38616787 0.36728506 0.28744872 0.22494375]\n"
     ]
    },
    {
     "data": {
      "image/png": "[encoded data removed]",
      "text/plain": [
       "<Figure size 432x288 with 1 Axes>"
      ]
     },
     "metadata": {
      "needs_background": "light"
     },
     "output_type": "display_data"
    },
    {
     "data": {
      "text/plain": [
       "array([0.01226769, 0.01765371, 0.04119198, 0.05706522, 0.05616871,\n",
       "       0.03975299, 0.05179237, 0.06347503, 0.08123293, 0.06045241,\n",
       "       0.07263449, 0.10570429, 0.0870033 , 0.07924485, 0.07723732,\n",
       "       0.04949575, 0.04762696])"
      ]
     },
     "execution_count": 109,
     "metadata": {},
     "output_type": "execute_result"
    }
   ],
   "source": [
    "outEig=np.linalg.eig(RDmat.T)\n",
    "si=np.argsort(1-outEig[0])\n",
    "print outEig[0][si]\n",
    "outVec=np.array(outEig[1])[:,si[0]]\n",
    "outVec=outVec/np.sum(outVec)\n",
    "plt.plot(outVec)\n",
    "plt.show()\n",
    "outVec"
   ]
  },
  {
   "cell_type": "code",
   "execution_count": 114,
   "metadata": {},
   "outputs": [
    {
     "data": {
      "image/png": "[encoded data removed]",
      "text/plain": [
       "<Figure size 432x288 with 1 Axes>"
      ]
     },
     "metadata": {
      "needs_background": "light"
     },
     "output_type": "display_data"
    }
   ],
   "source": [
    "plt.plot(-np.log(outVec)-(np.min(-np.log(outVec))))\n",
    "plt.show()"
   ]
  },
  {
   "cell_type": "markdown",
   "metadata": {},
   "source": [
    "# MD channel permeation example\n",
    "\n",
    "Next lets see how this works using data collected from milestoning simulations for permation of a channel my a small organic ligand.\n"
   ]
  },
  {
   "cell_type": "code",
   "execution_count": 223,
   "metadata": {},
   "outputs": [
    {
     "data": {
      "text/plain": [
       "array(['window_00.rest', 'window_00_rest.dat', 'window_01.rest',\n",
       "       'window_01_rest.dat', 'window_02.rest', 'window_02_rest.dat',\n",
       "       'window_03.rest', 'window_03_rest.dat'], dtype='|S18')"
      ]
     },
     "execution_count": 223,
     "metadata": {},
     "output_type": "execute_result"
    }
   ],
   "source": [
    "dataDir='test_md_data'\n",
    "dataFiles=np.sort(os.listdir(dataDir))\n",
    "dataFiles"
   ]
  },
  {
   "cell_type": "markdown",
   "metadata": {},
   "source": [
    "the data files are listed in the directory 'test_md_data'\n",
    "the files ending in '.dat' contain the output from the milestoning restraints\n",
    "while the '.rest' files contain the restraint input parameters.\n",
    "lets inspect the first output file"
   ]
  },
  {
   "cell_type": "code",
   "execution_count": 231,
   "metadata": {},
   "outputs": [
    {
     "data": {
      "text/html": [
       "<div>\n",
       "<style scoped>\n",
       "    .dataframe tbody tr th:only-of-type {\n",
       "        vertical-align: middle;\n",
       "    }\n",
       "\n",
       "    .dataframe tbody tr th {\n",
       "        vertical-align: top;\n",
       "    }\n",
       "\n",
       "    .dataframe thead th {\n",
       "        text-align: right;\n",
       "    }\n",
       "</style>\n",
       "<table border=\"1\" class=\"dataframe\">\n",
       "  <thead>\n",
       "    <tr style=\"text-align: right;\">\n",
       "      <th></th>\n",
       "      <th>Frame</th>\n",
       "      <th>MG0</th>\n",
       "      <th>MG1</th>\n",
       "      <th>MG2</th>\n",
       "      <th>MG3</th>\n",
       "      <th>MG4</th>\n",
       "      <th>MG5</th>\n",
       "      <th>DUMMYC_X</th>\n",
       "      <th>C_X</th>\n",
       "      <th>DUMMYC_Y</th>\n",
       "      <th>C_Y</th>\n",
       "      <th>DUMMYC_Z</th>\n",
       "      <th>C_Z</th>\n",
       "      <th>R1</th>\n",
       "      <th>DUMMYW1L_X</th>\n",
       "      <th>W1L_X</th>\n",
       "      <th>DUMMYW1L_Y</th>\n",
       "      <th>W1L_Y</th>\n",
       "      <th>DUMMYW1L_Z</th>\n",
       "      <th>W1L_Z</th>\n",
       "      <th>W1L_R</th>\n",
       "      <th>DUMMYW2L_X</th>\n",
       "      <th>W2L_X</th>\n",
       "      <th>DUMMYW2L_Y</th>\n",
       "      <th>W2L_Y</th>\n",
       "      <th>DUMMYW2L_Z</th>\n",
       "      <th>W2L_Z</th>\n",
       "      <th>W2L_R</th>\n",
       "    </tr>\n",
       "  </thead>\n",
       "  <tbody>\n",
       "    <tr>\n",
       "      <th>0</th>\n",
       "      <td>0</td>\n",
       "      <td>1.959</td>\n",
       "      <td>1.873</td>\n",
       "      <td>1.940</td>\n",
       "      <td>1.902</td>\n",
       "      <td>2.015</td>\n",
       "      <td>1.946</td>\n",
       "      <td>x:</td>\n",
       "      <td>-13.329</td>\n",
       "      <td>y:</td>\n",
       "      <td>-24.380</td>\n",
       "      <td>z:</td>\n",
       "      <td>-45.870</td>\n",
       "      <td>53.629</td>\n",
       "      <td>x:</td>\n",
       "      <td>11.077</td>\n",
       "      <td>y:</td>\n",
       "      <td>21.915</td>\n",
       "      <td>z:</td>\n",
       "      <td>110.140</td>\n",
       "      <td>112.844</td>\n",
       "      <td>x:</td>\n",
       "      <td>10.766</td>\n",
       "      <td>y:</td>\n",
       "      <td>26.174</td>\n",
       "      <td>z:</td>\n",
       "      <td>-15.195</td>\n",
       "      <td>32.123</td>\n",
       "    </tr>\n",
       "    <tr>\n",
       "      <th>1</th>\n",
       "      <td>500</td>\n",
       "      <td>1.958</td>\n",
       "      <td>1.946</td>\n",
       "      <td>1.963</td>\n",
       "      <td>1.899</td>\n",
       "      <td>1.988</td>\n",
       "      <td>1.888</td>\n",
       "      <td>x:</td>\n",
       "      <td>-13.094</td>\n",
       "      <td>y:</td>\n",
       "      <td>-24.782</td>\n",
       "      <td>z:</td>\n",
       "      <td>-46.073</td>\n",
       "      <td>53.929</td>\n",
       "      <td>x:</td>\n",
       "      <td>10.659</td>\n",
       "      <td>y:</td>\n",
       "      <td>22.238</td>\n",
       "      <td>z:</td>\n",
       "      <td>110.548</td>\n",
       "      <td>113.265</td>\n",
       "      <td>x:</td>\n",
       "      <td>10.342</td>\n",
       "      <td>y:</td>\n",
       "      <td>26.464</td>\n",
       "      <td>z:</td>\n",
       "      <td>-14.744</td>\n",
       "      <td>32.010</td>\n",
       "    </tr>\n",
       "    <tr>\n",
       "      <th>2</th>\n",
       "      <td>1000</td>\n",
       "      <td>1.935</td>\n",
       "      <td>2.071</td>\n",
       "      <td>1.951</td>\n",
       "      <td>1.895</td>\n",
       "      <td>1.986</td>\n",
       "      <td>1.950</td>\n",
       "      <td>x:</td>\n",
       "      <td>-13.316</td>\n",
       "      <td>y:</td>\n",
       "      <td>-24.773</td>\n",
       "      <td>z:</td>\n",
       "      <td>-46.096</td>\n",
       "      <td>53.999</td>\n",
       "      <td>x:</td>\n",
       "      <td>10.780</td>\n",
       "      <td>y:</td>\n",
       "      <td>22.009</td>\n",
       "      <td>z:</td>\n",
       "      <td>110.709</td>\n",
       "      <td>113.389</td>\n",
       "      <td>x:</td>\n",
       "      <td>10.483</td>\n",
       "      <td>y:</td>\n",
       "      <td>26.262</td>\n",
       "      <td>z:</td>\n",
       "      <td>-14.688</td>\n",
       "      <td>31.864</td>\n",
       "    </tr>\n",
       "    <tr>\n",
       "      <th>3</th>\n",
       "      <td>1500</td>\n",
       "      <td>1.969</td>\n",
       "      <td>1.922</td>\n",
       "      <td>1.990</td>\n",
       "      <td>1.912</td>\n",
       "      <td>1.984</td>\n",
       "      <td>1.942</td>\n",
       "      <td>x:</td>\n",
       "      <td>-12.631</td>\n",
       "      <td>y:</td>\n",
       "      <td>-24.884</td>\n",
       "      <td>z:</td>\n",
       "      <td>-46.398</td>\n",
       "      <td>54.144</td>\n",
       "      <td>x:</td>\n",
       "      <td>10.453</td>\n",
       "      <td>y:</td>\n",
       "      <td>22.378</td>\n",
       "      <td>z:</td>\n",
       "      <td>110.696</td>\n",
       "      <td>113.418</td>\n",
       "      <td>x:</td>\n",
       "      <td>10.123</td>\n",
       "      <td>y:</td>\n",
       "      <td>26.661</td>\n",
       "      <td>z:</td>\n",
       "      <td>-14.631</td>\n",
       "      <td>32.052</td>\n",
       "    </tr>\n",
       "    <tr>\n",
       "      <th>4</th>\n",
       "      <td>2000</td>\n",
       "      <td>1.883</td>\n",
       "      <td>1.915</td>\n",
       "      <td>1.894</td>\n",
       "      <td>1.895</td>\n",
       "      <td>2.094</td>\n",
       "      <td>1.984</td>\n",
       "      <td>x:</td>\n",
       "      <td>-12.681</td>\n",
       "      <td>y:</td>\n",
       "      <td>-24.989</td>\n",
       "      <td>z:</td>\n",
       "      <td>-47.043</td>\n",
       "      <td>54.757</td>\n",
       "      <td>x:</td>\n",
       "      <td>10.425</td>\n",
       "      <td>y:</td>\n",
       "      <td>22.263</td>\n",
       "      <td>z:</td>\n",
       "      <td>111.143</td>\n",
       "      <td>113.829</td>\n",
       "      <td>x:</td>\n",
       "      <td>10.083</td>\n",
       "      <td>y:</td>\n",
       "      <td>26.527</td>\n",
       "      <td>z:</td>\n",
       "      <td>-14.230</td>\n",
       "      <td>31.746</td>\n",
       "    </tr>\n",
       "  </tbody>\n",
       "</table>\n",
       "</div>"
      ],
      "text/plain": [
       "   Frame    MG0    MG1    MG2    MG3    MG4    MG5 DUMMYC_X     C_X DUMMYC_Y  \\\n",
       "0      0  1.959  1.873  1.940  1.902  2.015  1.946       x: -13.329       y:   \n",
       "1    500  1.958  1.946  1.963  1.899  1.988  1.888       x: -13.094       y:   \n",
       "2   1000  1.935  2.071  1.951  1.895  1.986  1.950       x: -13.316       y:   \n",
       "3   1500  1.969  1.922  1.990  1.912  1.984  1.942       x: -12.631       y:   \n",
       "4   2000  1.883  1.915  1.894  1.895  2.094  1.984       x: -12.681       y:   \n",
       "\n",
       "      C_Y DUMMYC_Z     C_Z      R1 DUMMYW1L_X   W1L_X DUMMYW1L_Y   W1L_Y  \\\n",
       "0 -24.380       z: -45.870  53.629         x:  11.077         y:  21.915   \n",
       "1 -24.782       z: -46.073  53.929         x:  10.659         y:  22.238   \n",
       "2 -24.773       z: -46.096  53.999         x:  10.780         y:  22.009   \n",
       "3 -24.884       z: -46.398  54.144         x:  10.453         y:  22.378   \n",
       "4 -24.989       z: -47.043  54.757         x:  10.425         y:  22.263   \n",
       "\n",
       "  DUMMYW1L_Z    W1L_Z    W1L_R DUMMYW2L_X   W2L_X DUMMYW2L_Y   W2L_Y  \\\n",
       "0         z:  110.140  112.844         x:  10.766         y:  26.174   \n",
       "1         z:  110.548  113.265         x:  10.342         y:  26.464   \n",
       "2         z:  110.709  113.389         x:  10.483         y:  26.262   \n",
       "3         z:  110.696  113.418         x:  10.123         y:  26.661   \n",
       "4         z:  111.143  113.829         x:  10.083         y:  26.527   \n",
       "\n",
       "  DUMMYW2L_Z   W2L_Z   W2L_R  \n",
       "0         z: -15.195  32.123  \n",
       "1         z: -14.744  32.010  \n",
       "2         z: -14.688  31.864  \n",
       "3         z: -14.631  32.052  \n",
       "4         z: -14.230  31.746  "
      ]
     },
     "execution_count": 231,
     "metadata": {},
     "output_type": "execute_result"
    }
   ],
   "source": [
    "#The column names are not given in the data file so we need to define them ourselves\n",
    "#the data file will contain some dummy columns which are present to make it more human readable\n",
    "#we will label them accordingly so they can be easily removed later\n",
    "#For current purposes, we only need the Z coordinates for the waters-ligand restraints and the\n",
    "#frame numbers.\n",
    "datColNames=np.concatenate([\n",
    "     ['Frame'],\n",
    "     ['MG%g'%iiMG for iiMG in np.arange(6)],\n",
    "     ['DUMMYC_X','C_X','DUMMYC_Y','C_Y','DUMMYC_Z','C_Z','R1'],\n",
    "     ['DUMMYW1L_X','W1L_X','DUMMYW1L_Y','W1L_Y','DUMMYW1L_Z','W1L_Z','W1L_R'],\n",
    "     ['DUMMYW2L_X','W2L_X','DUMMYW2L_Y','W2L_Y','DUMMYW2L_Z','W2L_Z','W2L_R'],\n",
    "    ])\n",
    "pd.read_csv(dataDir+'/'+dataFiles[1],delim_whitespace=True,\n",
    "            names=datColNames).head()"
   ]
  },
  {
   "cell_type": "markdown",
   "metadata": {},
   "source": [
    "we also need to get information about the milestoning restraint parameters.\n",
    "This is contained in the corresponding '.rest' file for each window.\n",
    "These files are in Fortran namelist format. We can use the f90nml package to load them here."
   ]
  },
  {
   "cell_type": "code",
   "execution_count": 123,
   "metadata": {},
   "outputs": [
    {
     "data": {
      "text/plain": [
       "Namelist([('rst',\n",
       "           [Namelist([('iat', [-1, -1]),\n",
       "                      ('r1', 95.0),\n",
       "                      ('r2', 109.0),\n",
       "                      ('r3', 111.0),\n",
       "                      ('r4', 135.0),\n",
       "                      ('rk2', 0.0),\n",
       "                      ('rk3', 0.0),\n",
       "                      ('iresid', 0),\n",
       "                      ('fxyz', [0, 0, 1]),\n",
       "                      ('outxyz', 1),\n",
       "                      ('igr1', 102701),\n",
       "                      ('igr2', 22402)]),\n",
       "            Namelist([('iat', [-1, -1]),\n",
       "                      ('r1', 5.0),\n",
       "                      ('r2', 14.0),\n",
       "                      ('r3', 16.0),\n",
       "                      ('r4', 40.0),\n",
       "                      ('rk2', 100.0),\n",
       "                      ('rk3', 100.0),\n",
       "                      ('iresid', 0),\n",
       "                      ('fxyz', [0, 0, 1]),\n",
       "                      ('outxyz', 1),\n",
       "                      ('igr1', 136412),\n",
       "                      ('igr2', 22402)])])])"
      ]
     },
     "execution_count": 123,
     "metadata": {},
     "output_type": "execute_result"
    }
   ],
   "source": [
    "f90nml.read(dataDir+'/'+dataFiles[1])"
   ]
  },
  {
   "cell_type": "markdown",
   "metadata": {},
   "source": [
    "The two 'Namelist' sub entries correspond to the two restraints use to define a milstoning window. The main entry is 'rst' which would let the AMBER md engine know that these are standard nmr style restraints.\n",
    "\n",
    "These correspond to distance restraints limited to z-axis only between one of a pair of two water molecules and the ligand molecule.\n",
    "During the simulation, the water molecules themselves are restrained to their original cartesian coordinates.\n",
    "\n",
    "A pair of molecules was used due to technical considerations regarding the system size and periodic boundary set up which will not be elaborated on here. Essentially the distance between the water molecules, is roughly constant as well as the distance between either molecule and the channel.\n",
    "This allows us to use the distance between either molecule and the ligand as a proxy for the z-coordinate of the ligand w.r.t. the channel center.\n",
    "\n",
    "The values 'r1', 'r2', 'r3', and 'r4' define control points on a flat-bottom harmonic restraint.\n",
    "r2 and r3 define the flat bottom region while r1-r2 and r3-r4 define the left and right side parabololic potential regions. The values of rk2 and rk3 define the force constant for these harmonic regions.\n",
    "\n",
    "Note that only one of the two water molecule retraints is 'turned on' at a given time (as can be seen by looking at rk2 and rk3)\n",
    "\n",
    "So, for each window we have to locate which restraint was used and extract the restraint information for that window.\n",
    "\n",
    "More importantly, however, we note taht at the center two windows the water molecule being used switches. This means that we need to\n",
    "    1. Define a generalized coordinate that relates the two ligand distances to the channel distance\n",
    "    2. Ensure that there is a good correlation between the distance from each ligand\n",
    "    3. Ensure that the distance between water molecules does not fluctuate to strongly relative to the milestone window width\n",
    "    \n",
    "Lets first load the output data and restraint parameter data into a joint data frame. We can discard the X and Y columns of the data since they are irrelevant for our purposes."
   ]
  },
  {
   "cell_type": "code",
   "execution_count": 236,
   "metadata": {},
   "outputs": [
    {
     "data": {
      "text/plain": [
       "['window_00.rest',\n",
       " 'window_00_rest.dat',\n",
       " 'window_01.rest',\n",
       " 'window_01_rest.dat',\n",
       " 'window_02.rest',\n",
       " 'window_02_rest.dat',\n",
       " 'window_03.rest',\n",
       " 'window_03_rest.dat']"
      ]
     },
     "execution_count": 236,
     "metadata": {},
     "output_type": "execute_result"
    }
   ],
   "source": [
    "restFiles"
   ]
  },
  {
   "cell_type": "code",
   "execution_count": 244,
   "metadata": {},
   "outputs": [
    {
     "name": "stdout",
     "output_type": "stream",
     "text": [
      "Loading data for window_00_rest\n",
      "Loading data for window_01_rest\n",
      "Loading data for window_02_rest\n",
      "Loading data for window_03_rest\n"
     ]
    },
    {
     "data": {
      "text/html": [
       "<div>\n",
       "<style scoped>\n",
       "    .dataframe tbody tr th:only-of-type {\n",
       "        vertical-align: middle;\n",
       "    }\n",
       "\n",
       "    .dataframe tbody tr th {\n",
       "        vertical-align: top;\n",
       "    }\n",
       "\n",
       "    .dataframe thead th {\n",
       "        text-align: right;\n",
       "    }\n",
       "</style>\n",
       "<table border=\"1\" class=\"dataframe\">\n",
       "  <thead>\n",
       "    <tr style=\"text-align: right;\">\n",
       "      <th></th>\n",
       "      <th>W1L_igr1</th>\n",
       "      <th>W1L_igr2</th>\n",
       "      <th>W1L_r1</th>\n",
       "      <th>W1L_r2</th>\n",
       "      <th>W1L_r3</th>\n",
       "      <th>W1L_r4</th>\n",
       "      <th>W1L_rk2</th>\n",
       "      <th>W1L_rk3</th>\n",
       "      <th>W2L_igr1</th>\n",
       "      <th>W2L_igr2</th>\n",
       "      <th>W2L_r1</th>\n",
       "      <th>W2L_r2</th>\n",
       "      <th>W2L_r3</th>\n",
       "      <th>W2L_r4</th>\n",
       "      <th>W2L_rk2</th>\n",
       "      <th>W2L_rk3</th>\n",
       "      <th>Window</th>\n",
       "    </tr>\n",
       "  </thead>\n",
       "  <tbody>\n",
       "    <tr>\n",
       "      <th>0</th>\n",
       "      <td>102701</td>\n",
       "      <td>22402</td>\n",
       "      <td>95.0</td>\n",
       "      <td>109.0</td>\n",
       "      <td>111.0</td>\n",
       "      <td>135.0</td>\n",
       "      <td>0.0</td>\n",
       "      <td>0.0</td>\n",
       "      <td>136412</td>\n",
       "      <td>22402</td>\n",
       "      <td>5.0</td>\n",
       "      <td>14.0</td>\n",
       "      <td>16.0</td>\n",
       "      <td>40.0</td>\n",
       "      <td>100.0</td>\n",
       "      <td>100.0</td>\n",
       "      <td>0</td>\n",
       "    </tr>\n",
       "    <tr>\n",
       "      <th>1</th>\n",
       "      <td>102701</td>\n",
       "      <td>22402</td>\n",
       "      <td>95.0</td>\n",
       "      <td>107.0</td>\n",
       "      <td>109.0</td>\n",
       "      <td>135.0</td>\n",
       "      <td>0.0</td>\n",
       "      <td>0.0</td>\n",
       "      <td>136412</td>\n",
       "      <td>22402</td>\n",
       "      <td>5.0</td>\n",
       "      <td>16.0</td>\n",
       "      <td>18.0</td>\n",
       "      <td>40.0</td>\n",
       "      <td>100.0</td>\n",
       "      <td>100.0</td>\n",
       "      <td>1</td>\n",
       "    </tr>\n",
       "    <tr>\n",
       "      <th>2</th>\n",
       "      <td>102701</td>\n",
       "      <td>22402</td>\n",
       "      <td>95.0</td>\n",
       "      <td>105.0</td>\n",
       "      <td>107.0</td>\n",
       "      <td>135.0</td>\n",
       "      <td>0.0</td>\n",
       "      <td>0.0</td>\n",
       "      <td>136412</td>\n",
       "      <td>22402</td>\n",
       "      <td>5.0</td>\n",
       "      <td>18.0</td>\n",
       "      <td>20.0</td>\n",
       "      <td>40.0</td>\n",
       "      <td>100.0</td>\n",
       "      <td>100.0</td>\n",
       "      <td>2</td>\n",
       "    </tr>\n",
       "    <tr>\n",
       "      <th>3</th>\n",
       "      <td>102701</td>\n",
       "      <td>22402</td>\n",
       "      <td>95.0</td>\n",
       "      <td>103.0</td>\n",
       "      <td>105.0</td>\n",
       "      <td>135.0</td>\n",
       "      <td>0.0</td>\n",
       "      <td>0.0</td>\n",
       "      <td>136412</td>\n",
       "      <td>22402</td>\n",
       "      <td>5.0</td>\n",
       "      <td>20.0</td>\n",
       "      <td>22.0</td>\n",
       "      <td>40.0</td>\n",
       "      <td>100.0</td>\n",
       "      <td>100.0</td>\n",
       "      <td>3</td>\n",
       "    </tr>\n",
       "  </tbody>\n",
       "</table>\n",
       "</div>"
      ],
      "text/plain": [
       "   W1L_igr1  W1L_igr2  W1L_r1  W1L_r2  W1L_r3  W1L_r4  W1L_rk2  W1L_rk3  \\\n",
       "0    102701     22402    95.0   109.0   111.0   135.0      0.0      0.0   \n",
       "1    102701     22402    95.0   107.0   109.0   135.0      0.0      0.0   \n",
       "2    102701     22402    95.0   105.0   107.0   135.0      0.0      0.0   \n",
       "3    102701     22402    95.0   103.0   105.0   135.0      0.0      0.0   \n",
       "\n",
       "   W2L_igr1  W2L_igr2  W2L_r1  W2L_r2  W2L_r3  W2L_r4  W2L_rk2  W2L_rk3  \\\n",
       "0    136412     22402     5.0    14.0    16.0    40.0    100.0    100.0   \n",
       "1    136412     22402     5.0    16.0    18.0    40.0    100.0    100.0   \n",
       "2    136412     22402     5.0    18.0    20.0    40.0    100.0    100.0   \n",
       "3    136412     22402     5.0    20.0    22.0    40.0    100.0    100.0   \n",
       "\n",
       "   Window  \n",
       "0       0  \n",
       "1       1  \n",
       "2       2  \n",
       "3       3  "
      ]
     },
     "execution_count": 244,
     "metadata": {},
     "output_type": "execute_result"
    }
   ],
   "source": [
    "zCoordFiles=[dataFile for dataFile in dataFiles if '.dat' in dataFile]\n",
    "restFiles=[restFile for restFile in dataFiles if '.rest' in restFile]\n",
    "mdDataTables=[]\n",
    "parmValNames=['r1','r2','r3','r4','rk2','rk3','igr1','igr2']\n",
    "parmData={}\n",
    "parmData['Window']=[]\n",
    "datColNames=np.concatenate([\n",
    "     ['Timestep'],\n",
    "     ['MG%g'%iiMG for iiMG in np.arange(6)],\n",
    "     ['DUMMYC_X','C_X','DUMMYC_Y','C_Y','DUMMYC_Z','C_Z','R1'],\n",
    "     ['DUMMYW1L_X','W1L_X','DUMMYW1L_Y','W1L_Y','DUMMYW1L_Z','W1L_Z','W1L_R'],\n",
    "     ['DUMMYW2L_X','W2L_X','DUMMYW2L_Y','W2L_Y','DUMMYW2L_Z','W2L_Z','W2L_R'],\n",
    "    ])\n",
    "for valName in parmValNames:\n",
    "    parmData['W1L_'+valName]=[]\n",
    "    parmData['W2L_'+valName]=[]\n",
    "for iWin,winFileName in enumerate(zCoordFiles):\n",
    "    print 'Loading data for %s'%(\n",
    "        winFileName.split('.')[0])\n",
    "    windowID=winFileName.split('.')[0].split('_')[1]\n",
    "    restFileName=restFiles[iWin]\n",
    "    tempTable=pd.read_csv(dataDir+'/'+winFileName,delim_whitespace=True,\n",
    "                          names=datColNames)\n",
    "    #tempTable=tempTable.drop(columns=[colName for colName in tempTable.columns \\\n",
    "    #                        if ('x' in colName) | ('y' in colName) | \\\n",
    "    #                           ('X' in colName) | ('Y' in colName)])\n",
    "    tempNMLfile=f90nml.read(dataDir+'/'+restFileName)\n",
    "    tempTable['Window']=np.int(windowID)\n",
    "    tempTable=tempTable[['Window','Timestep','W1L_Z','W2L_Z']]\n",
    "    tempVals=np.zeros(len(parmValNames)+1)\n",
    "    \n",
    "    parmData['Window'].append(np.int(windowID))\n",
    "    for valName in parmValNames:\n",
    "        tempTable['W1L_'+valName]=tempNMLfile['rst'][0][valName]\n",
    "        parmData['W1L_'+valName].append(tempNMLfile['rst'][0][valName])\n",
    "        tempTable['W2L_'+valName]=tempNMLfile['rst'][1][valName]\n",
    "        parmData['W2L_'+valName].append(tempNMLfile['rst'][1][valName])\n",
    "        \n",
    "    mdDataTables.append(pd.DataFrame.copy(tempTable))\n",
    "    gc.collect()\n",
    "mdTable=pd.concat(mdDataTables)\n",
    "mdTable=mdTable[np.concatenate([\n",
    "    ['Window','Timestep'],\n",
    "    [colName for colName in mdTable.columns if 'W1' in colName],\n",
    "    [colName for colName in mdTable.columns if 'W2' in colName]\n",
    "])]\n",
    "parmData=pd.DataFrame(parmData)\n",
    "parmData"
   ]
  },
  {
   "cell_type": "code",
   "execution_count": 245,
   "metadata": {},
   "outputs": [
    {
     "data": {
      "text/html": [
       "<div>\n",
       "<style scoped>\n",
       "    .dataframe tbody tr th:only-of-type {\n",
       "        vertical-align: middle;\n",
       "    }\n",
       "\n",
       "    .dataframe tbody tr th {\n",
       "        vertical-align: top;\n",
       "    }\n",
       "\n",
       "    .dataframe thead th {\n",
       "        text-align: right;\n",
       "    }\n",
       "</style>\n",
       "<table border=\"1\" class=\"dataframe\">\n",
       "  <thead>\n",
       "    <tr style=\"text-align: right;\">\n",
       "      <th></th>\n",
       "      <th>Window</th>\n",
       "      <th>Timestep</th>\n",
       "      <th>W1L_Z</th>\n",
       "      <th>W1L_r1</th>\n",
       "      <th>W1L_r2</th>\n",
       "      <th>W1L_r3</th>\n",
       "      <th>W1L_r4</th>\n",
       "      <th>W1L_rk2</th>\n",
       "      <th>W1L_rk3</th>\n",
       "      <th>W1L_igr1</th>\n",
       "      <th>W1L_igr2</th>\n",
       "      <th>W2L_Z</th>\n",
       "      <th>W2L_r1</th>\n",
       "      <th>W2L_r2</th>\n",
       "      <th>W2L_r3</th>\n",
       "      <th>W2L_r4</th>\n",
       "      <th>W2L_rk2</th>\n",
       "      <th>W2L_rk3</th>\n",
       "      <th>W2L_igr1</th>\n",
       "      <th>W2L_igr2</th>\n",
       "    </tr>\n",
       "  </thead>\n",
       "  <tbody>\n",
       "    <tr>\n",
       "      <th>0</th>\n",
       "      <td>0</td>\n",
       "      <td>0</td>\n",
       "      <td>110.140</td>\n",
       "      <td>95.0</td>\n",
       "      <td>109.0</td>\n",
       "      <td>111.0</td>\n",
       "      <td>135.0</td>\n",
       "      <td>0.0</td>\n",
       "      <td>0.0</td>\n",
       "      <td>102701</td>\n",
       "      <td>22402</td>\n",
       "      <td>-15.195</td>\n",
       "      <td>5.0</td>\n",
       "      <td>14.0</td>\n",
       "      <td>16.0</td>\n",
       "      <td>40.0</td>\n",
       "      <td>100.0</td>\n",
       "      <td>100.0</td>\n",
       "      <td>136412</td>\n",
       "      <td>22402</td>\n",
       "    </tr>\n",
       "    <tr>\n",
       "      <th>1</th>\n",
       "      <td>0</td>\n",
       "      <td>500</td>\n",
       "      <td>110.548</td>\n",
       "      <td>95.0</td>\n",
       "      <td>109.0</td>\n",
       "      <td>111.0</td>\n",
       "      <td>135.0</td>\n",
       "      <td>0.0</td>\n",
       "      <td>0.0</td>\n",
       "      <td>102701</td>\n",
       "      <td>22402</td>\n",
       "      <td>-14.744</td>\n",
       "      <td>5.0</td>\n",
       "      <td>14.0</td>\n",
       "      <td>16.0</td>\n",
       "      <td>40.0</td>\n",
       "      <td>100.0</td>\n",
       "      <td>100.0</td>\n",
       "      <td>136412</td>\n",
       "      <td>22402</td>\n",
       "    </tr>\n",
       "    <tr>\n",
       "      <th>2</th>\n",
       "      <td>0</td>\n",
       "      <td>1000</td>\n",
       "      <td>110.709</td>\n",
       "      <td>95.0</td>\n",
       "      <td>109.0</td>\n",
       "      <td>111.0</td>\n",
       "      <td>135.0</td>\n",
       "      <td>0.0</td>\n",
       "      <td>0.0</td>\n",
       "      <td>102701</td>\n",
       "      <td>22402</td>\n",
       "      <td>-14.688</td>\n",
       "      <td>5.0</td>\n",
       "      <td>14.0</td>\n",
       "      <td>16.0</td>\n",
       "      <td>40.0</td>\n",
       "      <td>100.0</td>\n",
       "      <td>100.0</td>\n",
       "      <td>136412</td>\n",
       "      <td>22402</td>\n",
       "    </tr>\n",
       "    <tr>\n",
       "      <th>3</th>\n",
       "      <td>0</td>\n",
       "      <td>1500</td>\n",
       "      <td>110.696</td>\n",
       "      <td>95.0</td>\n",
       "      <td>109.0</td>\n",
       "      <td>111.0</td>\n",
       "      <td>135.0</td>\n",
       "      <td>0.0</td>\n",
       "      <td>0.0</td>\n",
       "      <td>102701</td>\n",
       "      <td>22402</td>\n",
       "      <td>-14.631</td>\n",
       "      <td>5.0</td>\n",
       "      <td>14.0</td>\n",
       "      <td>16.0</td>\n",
       "      <td>40.0</td>\n",
       "      <td>100.0</td>\n",
       "      <td>100.0</td>\n",
       "      <td>136412</td>\n",
       "      <td>22402</td>\n",
       "    </tr>\n",
       "    <tr>\n",
       "      <th>4</th>\n",
       "      <td>0</td>\n",
       "      <td>2000</td>\n",
       "      <td>111.143</td>\n",
       "      <td>95.0</td>\n",
       "      <td>109.0</td>\n",
       "      <td>111.0</td>\n",
       "      <td>135.0</td>\n",
       "      <td>0.0</td>\n",
       "      <td>0.0</td>\n",
       "      <td>102701</td>\n",
       "      <td>22402</td>\n",
       "      <td>-14.230</td>\n",
       "      <td>5.0</td>\n",
       "      <td>14.0</td>\n",
       "      <td>16.0</td>\n",
       "      <td>40.0</td>\n",
       "      <td>100.0</td>\n",
       "      <td>100.0</td>\n",
       "      <td>136412</td>\n",
       "      <td>22402</td>\n",
       "    </tr>\n",
       "  </tbody>\n",
       "</table>\n",
       "</div>"
      ],
      "text/plain": [
       "   Window  Timestep    W1L_Z  W1L_r1  W1L_r2  W1L_r3  W1L_r4  W1L_rk2  \\\n",
       "0       0         0  110.140    95.0   109.0   111.0   135.0      0.0   \n",
       "1       0       500  110.548    95.0   109.0   111.0   135.0      0.0   \n",
       "2       0      1000  110.709    95.0   109.0   111.0   135.0      0.0   \n",
       "3       0      1500  110.696    95.0   109.0   111.0   135.0      0.0   \n",
       "4       0      2000  111.143    95.0   109.0   111.0   135.0      0.0   \n",
       "\n",
       "   W1L_rk3  W1L_igr1  W1L_igr2   W2L_Z  W2L_r1  W2L_r2  W2L_r3  W2L_r4  \\\n",
       "0      0.0    102701     22402 -15.195     5.0    14.0    16.0    40.0   \n",
       "1      0.0    102701     22402 -14.744     5.0    14.0    16.0    40.0   \n",
       "2      0.0    102701     22402 -14.688     5.0    14.0    16.0    40.0   \n",
       "3      0.0    102701     22402 -14.631     5.0    14.0    16.0    40.0   \n",
       "4      0.0    102701     22402 -14.230     5.0    14.0    16.0    40.0   \n",
       "\n",
       "   W2L_rk2  W2L_rk3  W2L_igr1  W2L_igr2  \n",
       "0    100.0    100.0    136412     22402  \n",
       "1    100.0    100.0    136412     22402  \n",
       "2    100.0    100.0    136412     22402  \n",
       "3    100.0    100.0    136412     22402  \n",
       "4    100.0    100.0    136412     22402  "
      ]
     },
     "execution_count": 245,
     "metadata": {},
     "output_type": "execute_result"
    }
   ],
   "source": [
    "mdTable.head()"
   ]
  },
  {
   "cell_type": "code",
   "execution_count": 293,
   "metadata": {},
   "outputs": [
    {
     "data": {
      "image/png": "[encoded data removed]",
      "text/plain": [
       "<Figure size 864x648 with 4 Axes>"
      ]
     },
     "metadata": {
      "needs_background": "light"
     },
     "output_type": "display_data"
    }
   ],
   "source": [
    "nWindows=len(mdTable.Window.unique())\n",
    "fig,axs=plt.subplots(int(np.ceil(np.sqrt(nWindows*1.))),\n",
    "                     int(np.ceil(1.*nWindows/np.ceil(np.sqrt(nWindows)))))\n",
    "fig.set_figwidth(12)\n",
    "fig.set_figheight(9)\n",
    "\n",
    "for iWin,window in enumerate(mdTable.Window.unique()):\n",
    "    ax=axs.flat[iWin]\n",
    "    plotData=mdTable[mdTable.Window==window]\n",
    "    ax.scatter(plotData.Timestep*.002,np.abs(plotData.W2L_Z)+np.abs(plotData.W1L_Z),\n",
    "               c=plotData.Timestep,\n",
    "                label='window_%02g'%window,s=2)\n",
    "    ax.legend()\n",
    "    #ax.set_ylim(ymin,ymax)\n",
    "fig.suptitle('Water-Ligand correlation')\n",
    "plt.show()"
   ]
  },
  {
   "cell_type": "markdown",
   "metadata": {},
   "source": [
    "It looks like there is a fair amount of change in water-water distance, and the plots of the correlation between distance from W1 to ligand vs W2 to ligand appear to be bandlike with widths around 0.5 Å.\n",
    "\n",
    "The width of our windows (see parmData table subset below) is roughly two angstroms, so this may indicate a fair amount of noise in our plots, but at least it is under half the window width\n",
    "\n",
    "Fortunately, for now only one water molecule was used for restraints so we don't need to worry about the ligand-water distance correlation for the two ligands yet, however, the change in water-water distance indicates that the two water molecules are getting closer together, in spite of relatively strong cartesian restraints.\n",
    "This is somewhat worrysome since it means that the distance from the water to the channel is likely being decreased as well.\n",
    "\n",
    "For now, lets forage forward and construct the window information we will need."
   ]
  },
  {
   "cell_type": "code",
   "execution_count": 247,
   "metadata": {},
   "outputs": [
    {
     "data": {
      "text/html": [
       "<div>\n",
       "<style scoped>\n",
       "    .dataframe tbody tr th:only-of-type {\n",
       "        vertical-align: middle;\n",
       "    }\n",
       "\n",
       "    .dataframe tbody tr th {\n",
       "        vertical-align: top;\n",
       "    }\n",
       "\n",
       "    .dataframe thead th {\n",
       "        text-align: right;\n",
       "    }\n",
       "</style>\n",
       "<table border=\"1\" class=\"dataframe\">\n",
       "  <thead>\n",
       "    <tr style=\"text-align: right;\">\n",
       "      <th></th>\n",
       "      <th>Window</th>\n",
       "      <th>W1L_r2</th>\n",
       "      <th>W1L_r3</th>\n",
       "      <th>W2L_r2</th>\n",
       "      <th>W2L_r3</th>\n",
       "    </tr>\n",
       "  </thead>\n",
       "  <tbody>\n",
       "    <tr>\n",
       "      <th>0</th>\n",
       "      <td>0</td>\n",
       "      <td>109.0</td>\n",
       "      <td>111.0</td>\n",
       "      <td>14.0</td>\n",
       "      <td>16.0</td>\n",
       "    </tr>\n",
       "    <tr>\n",
       "      <th>1</th>\n",
       "      <td>1</td>\n",
       "      <td>107.0</td>\n",
       "      <td>109.0</td>\n",
       "      <td>16.0</td>\n",
       "      <td>18.0</td>\n",
       "    </tr>\n",
       "    <tr>\n",
       "      <th>2</th>\n",
       "      <td>2</td>\n",
       "      <td>105.0</td>\n",
       "      <td>107.0</td>\n",
       "      <td>18.0</td>\n",
       "      <td>20.0</td>\n",
       "    </tr>\n",
       "    <tr>\n",
       "      <th>3</th>\n",
       "      <td>3</td>\n",
       "      <td>103.0</td>\n",
       "      <td>105.0</td>\n",
       "      <td>20.0</td>\n",
       "      <td>22.0</td>\n",
       "    </tr>\n",
       "  </tbody>\n",
       "</table>\n",
       "</div>"
      ],
      "text/plain": [
       "   Window  W1L_r2  W1L_r3  W2L_r2  W2L_r3\n",
       "0       0   109.0   111.0    14.0    16.0\n",
       "1       1   107.0   109.0    16.0    18.0\n",
       "2       2   105.0   107.0    18.0    20.0\n",
       "3       3   103.0   105.0    20.0    22.0"
      ]
     },
     "execution_count": 247,
     "metadata": {},
     "output_type": "execute_result"
    }
   ],
   "source": [
    "parmData[np.concatenate([['Window'],[colName for colName in parmData.columns \\\n",
    "                      if np.sum([(binCol in colName) for binCol in ['_r2','_r3']])]])]"
   ]
  },
  {
   "cell_type": "code",
   "execution_count": 272,
   "metadata": {},
   "outputs": [
    {
     "name": "stdout",
     "output_type": "stream",
     "text": [
      "Window Geometry Summary\n",
      "centers:    15.000, 17.000, 19.000, 21.000\n",
      "left edge:  14.000, 16.000, 18.000, 20.000\n",
      "right edge: 16.000, 18.000, 20.000, 22.000\n"
     ]
    }
   ],
   "source": [
    "windowCenters=(parmData.W2L_r2+parmData.W2L_r3)/2.\n",
    "winMins=parmData.W2L_r2\n",
    "winMaxs=parmData.W2L_r3\n",
    "windowWidth=np.mean(winMaxs-winMins)\n",
    "\n",
    "print 'Window Geometry Summary'\n",
    "print 'centers:    '+', '.join(windowCenters.map(lambda x: '%.3f'%x))\n",
    "print 'left edge:  '+', '.join(winMins.map(lambda x: '%.3f'%x))\n",
    "print 'right edge: '+', '.join(winMaxs.map(lambda x: '%.3f'%x))"
   ]
  },
  {
   "cell_type": "markdown",
   "metadata": {},
   "source": [
    "We can now extract the data we need from our table into the form needed for our binning as above\n",
    "then bin and extract the escape matrix."
   ]
  },
  {
   "cell_type": "code",
   "execution_count": 260,
   "metadata": {},
   "outputs": [
    {
     "data": {
      "text/html": [
       "<div>\n",
       "<style scoped>\n",
       "    .dataframe tbody tr th:only-of-type {\n",
       "        vertical-align: middle;\n",
       "    }\n",
       "\n",
       "    .dataframe tbody tr th {\n",
       "        vertical-align: top;\n",
       "    }\n",
       "\n",
       "    .dataframe thead th {\n",
       "        text-align: right;\n",
       "    }\n",
       "</style>\n",
       "<table border=\"1\" class=\"dataframe\">\n",
       "  <thead>\n",
       "    <tr style=\"text-align: right;\">\n",
       "      <th></th>\n",
       "      <th>Window</th>\n",
       "      <th>Frame</th>\n",
       "      <th>Time</th>\n",
       "      <th>X</th>\n",
       "    </tr>\n",
       "  </thead>\n",
       "  <tbody>\n",
       "    <tr>\n",
       "      <th>0</th>\n",
       "      <td>0</td>\n",
       "      <td>0</td>\n",
       "      <td>0.0</td>\n",
       "      <td>15.195</td>\n",
       "    </tr>\n",
       "    <tr>\n",
       "      <th>1</th>\n",
       "      <td>0</td>\n",
       "      <td>500</td>\n",
       "      <td>1.0</td>\n",
       "      <td>14.744</td>\n",
       "    </tr>\n",
       "    <tr>\n",
       "      <th>2</th>\n",
       "      <td>0</td>\n",
       "      <td>1000</td>\n",
       "      <td>2.0</td>\n",
       "      <td>14.688</td>\n",
       "    </tr>\n",
       "    <tr>\n",
       "      <th>3</th>\n",
       "      <td>0</td>\n",
       "      <td>1500</td>\n",
       "      <td>3.0</td>\n",
       "      <td>14.631</td>\n",
       "    </tr>\n",
       "    <tr>\n",
       "      <th>4</th>\n",
       "      <td>0</td>\n",
       "      <td>2000</td>\n",
       "      <td>4.0</td>\n",
       "      <td>14.230</td>\n",
       "    </tr>\n",
       "  </tbody>\n",
       "</table>\n",
       "</div>"
      ],
      "text/plain": [
       "   Window  Frame  Time       X\n",
       "0       0      0   0.0  15.195\n",
       "1       0    500   1.0  14.744\n",
       "2       0   1000   2.0  14.688\n",
       "3       0   1500   3.0  14.631\n",
       "4       0   2000   4.0  14.230"
      ]
     },
     "execution_count": 260,
     "metadata": {},
     "output_type": "execute_result"
    }
   ],
   "source": [
    "dt=.002 #simulation timestep (2 fs)\n",
    "simData=mdTable[['Window']].copy()\n",
    "simData['Frame']=mdTable.Timestep\n",
    "simData['Time']=simData.Frame*dt #in ps\n",
    "simData['X']=mdTable.W2L_Z.abs()\n",
    "simData.head()"
   ]
  },
  {
   "cell_type": "code",
   "execution_count": 261,
   "metadata": {},
   "outputs": [
    {
     "data": {
      "text/html": [
       "<div>\n",
       "<style scoped>\n",
       "    .dataframe tbody tr th:only-of-type {\n",
       "        vertical-align: middle;\n",
       "    }\n",
       "\n",
       "    .dataframe tbody tr th {\n",
       "        vertical-align: top;\n",
       "    }\n",
       "\n",
       "    .dataframe thead th {\n",
       "        text-align: right;\n",
       "    }\n",
       "</style>\n",
       "<table border=\"1\" class=\"dataframe\">\n",
       "  <thead>\n",
       "    <tr style=\"text-align: right;\">\n",
       "      <th></th>\n",
       "      <th>Window</th>\n",
       "      <th>Frame</th>\n",
       "      <th>Time</th>\n",
       "      <th>X</th>\n",
       "      <th>X_Index</th>\n",
       "    </tr>\n",
       "  </thead>\n",
       "  <tbody>\n",
       "    <tr>\n",
       "      <th>0</th>\n",
       "      <td>0</td>\n",
       "      <td>0</td>\n",
       "      <td>0.0</td>\n",
       "      <td>15.195</td>\n",
       "      <td>0</td>\n",
       "    </tr>\n",
       "    <tr>\n",
       "      <th>1</th>\n",
       "      <td>0</td>\n",
       "      <td>500</td>\n",
       "      <td>1.0</td>\n",
       "      <td>14.744</td>\n",
       "      <td>0</td>\n",
       "    </tr>\n",
       "    <tr>\n",
       "      <th>2</th>\n",
       "      <td>0</td>\n",
       "      <td>1000</td>\n",
       "      <td>2.0</td>\n",
       "      <td>14.688</td>\n",
       "      <td>0</td>\n",
       "    </tr>\n",
       "    <tr>\n",
       "      <th>3</th>\n",
       "      <td>0</td>\n",
       "      <td>1500</td>\n",
       "      <td>3.0</td>\n",
       "      <td>14.631</td>\n",
       "      <td>0</td>\n",
       "    </tr>\n",
       "    <tr>\n",
       "      <th>4</th>\n",
       "      <td>0</td>\n",
       "      <td>2000</td>\n",
       "      <td>4.0</td>\n",
       "      <td>14.230</td>\n",
       "      <td>0</td>\n",
       "    </tr>\n",
       "  </tbody>\n",
       "</table>\n",
       "</div>"
      ],
      "text/plain": [
       "   Window  Frame  Time       X  X_Index\n",
       "0       0      0   0.0  15.195        0\n",
       "1       0    500   1.0  14.744        0\n",
       "2       0   1000   2.0  14.688        0\n",
       "3       0   1500   3.0  14.631        0\n",
       "4       0   2000   4.0  14.230        0"
      ]
     },
     "execution_count": 261,
     "metadata": {},
     "output_type": "execute_result"
    }
   ],
   "source": [
    "binEdges=winMins[1:] #np.concatenate([winMins,[winMaxs[-1]]])\n",
    "digitize_kwds={\"bins\":binEdges}\n",
    "simData['X_Index']=simData.X.apply(np.digitize,**digitize_kwds)\n",
    "simData.head()"
   ]
  },
  {
   "cell_type": "code",
   "execution_count": 273,
   "metadata": {},
   "outputs": [
    {
     "data": {
      "application/vnd.jupyter.widget-view+json": {
       "model_id": "5259141b524f4283aa4c6865a3f52f2f",
       "version_major": 2,
       "version_minor": 0
      },
      "text/plain": [
       "aW50ZXJhY3RpdmUoY2hpbGRyZW49KEludFNsaWRlcih2YWx1ZT0xLCBkZXNjcmlwdGlvbj11J3dpbmRvdycsIG1heD0zKSwgT3V0cHV0KCkpLCBfZG9tX2NsYXNzZXM9KHUnd2lkZ2V0LWludGXigKY=\n"
      ]
     },
     "metadata": {},
     "output_type": "display_data"
    }
   ],
   "source": [
    "@interact\n",
    "def plot_window(window=(simData.Window.min(),simData.Window.max(),1)):\n",
    "    plt.figure(figsize=(12,9))\n",
    "    plt.rcParams['axes.facecolor']='grey'\n",
    "    nWindows=len(simData.Window.unique())\n",
    "    plotData=simData[simData.Window==window]\n",
    "    plt.scatter(plotData.Time,\n",
    "                (plotData.X_Index+.5)*windowWidth+winMins[0],\n",
    "                c='orange',#Spectral11[window%11],\n",
    "                s=4,\n",
    "                label='Window_%02g'%window)\n",
    "    plt.plot(plotData.Time,\n",
    "             plotData.X,\n",
    "             'r',\n",
    "             #Spectral11[window%11],\n",
    "             label='Window_%02g'%window)\n",
    "    plt.plot(plotData.Time,\n",
    "             [winMins[window]]*len(plotData),c='k')\n",
    "    plt.plot(plotData.Time,\n",
    "             [winMaxs[window]]*len(plotData),c='k')\n",
    "    plt.legend()\n",
    "    plt.grid()\n",
    "    plt.show()"
   ]
  },
  {
   "cell_type": "code",
   "execution_count": 274,
   "metadata": {},
   "outputs": [
    {
     "name": "stdout",
     "output_type": "stream",
     "text": [
      "--- --- ---\n",
      "escapeMatrix entry for window 0:\n",
      "[0.000, 0.054, 0.000, 0.000]\n",
      "Probability of being inside window (1-M(i,i)+1-M(i,i-1)): 0.946\n",
      "--- --- ---\n",
      "escapeMatrix entry for window 1:\n",
      "[0.029, 0.000, 0.032, 0.000]\n",
      "Ratio of left to right exit frequencies: 0.000\n",
      "Probability of being inside window (1-M(i,i)+1-M(i,i-1)): 0.939\n",
      "--- --- ---\n",
      "escapeMatrix entry for window 2:\n",
      "[0.000, 0.019, 0.000, 0.045]\n",
      "Ratio of left to right exit frequencies: 0.900\n",
      "Probability of being inside window (1-M(i,i)+1-M(i,i-1)): 0.936\n",
      "--- --- ---\n",
      "escapeMatrix entry for window 3:\n",
      "[0.000, 0.000, 0.011, 0.000]\n",
      "Probability of being inside window (1-M(i,i)+1-M(i,i-1)): 0.989\n",
      "--- --- ---\n"
     ]
    },
    {
     "data": {
      "image/png": "[encoded data removed]",
      "text/plain": [
       "<Figure size 432x288 with 1 Axes>"
      ]
     },
     "metadata": {
      "needs_background": "light"
     },
     "output_type": "display_data"
    }
   ],
   "source": [
    "#note that our window indexing starts at 0\n",
    "#this causes a problem for boolean operations since 0 evaluates to false\n",
    "#while non-zero evaluates as true.\n",
    "#moreover, our 'bins' span from -1 to nWindows+1...\n",
    "#thus we will temporarily add 2 to all window and X_index values\n",
    "#this way our X_index will span values from 1 to nWindows+2\n",
    "windows=np.sort(simData.Window.unique())\n",
    "xbins=np.sort(simData.X_Index.unique())\n",
    "nBins=len(xbins)\n",
    "escapeMat=np.zeros((nBins,nBins))\n",
    "pCenters=np.zeros(len(windows))\n",
    "escapeRatios=np.zeros(len(windows))\n",
    "#iVal->escape matrix row index\n",
    "#xbin->window\n",
    "#cVal->place holder for bin index with indexing starting at 1\n",
    "for iVal,xbin in enumerate(xbins):\n",
    "    if xbin in windows:\n",
    "        tempDat=simData[simData.Window==xbin]\n",
    "        cVal=xbin+1\n",
    "        binVec=np.array(tempDat.X_Index+1)\n",
    "        binC=(binVec==cVal)\n",
    "        binT=(1-binC[1:])*binC[:-1]*binVec[1:]\n",
    "        tCounts=np.unique(binT,return_counts=True)\n",
    "        transInds=tCounts[0][1:] #first entry should always be for binT==0\n",
    "        transCounts=tCounts[1][1:]\n",
    "        cCount=np.sum(binC)\n",
    "        for iInd,Ind in enumerate(transInds):\n",
    "            escapeMat[iVal,Ind-1]=1.*transCounts[iInd]/cCount\n",
    "        print \"--- --- ---\"\n",
    "        print \"escapeMatrix entry for window %g:\"%xbin\n",
    "        print '['+', '.join(map(lambda x: '%.3f'%x,escapeMat[iVal,:]))+']'\n",
    "        if (iVal > 0) & (iVal < (len(windows)-1)):\n",
    "            escapeRatios[iVal]=1.*escapeMat[iVal,iVal-1]/escapeMat[iVal,iVal+1]\n",
    "            print 'Ratio of left to right exit frequencies: %.3f'%(\n",
    "                escapeRatios[iVal-1])\n",
    "        pCenters[iVal]=1.0-np.sum(escapeMat[iVal,:])\n",
    "        print \"Probability of being inside window (1-M(i,i)+1-M(i,i-1)): %.3f\"%(\n",
    "            pCenters[iVal])\n",
    "print \"--- --- ---\"\n",
    "\n",
    "plt.imshow(escapeMat,extent=(-1,nBins,-1,nBins))\n",
    "plt.show()"
   ]
  },
  {
   "cell_type": "code",
   "execution_count": 287,
   "metadata": {},
   "outputs": [
    {
     "data": {
      "image/png": "[encoded data removed]",
      "text/plain": [
       "<Figure size 432x288 with 1 Axes>"
      ]
     },
     "metadata": {
      "needs_background": "light"
     },
     "output_type": "display_data"
    },
    {
     "name": "stdout",
     "output_type": "stream",
     "text": [
      "Eigenvalues: [1.         0.98402128 0.93246419 0.89292286]\n"
     ]
    },
    {
     "data": {
      "image/png": "[encoded data removed]",
      "text/plain": [
       "<Figure size 432x288 with 1 Axes>"
      ]
     },
     "metadata": {
      "needs_background": "light"
     },
     "output_type": "display_data"
    },
    {
     "data": {
      "image/png": "[encoded data removed]",
      "text/plain": [
       "<Figure size 432x288 with 1 Axes>"
      ]
     },
     "metadata": {
      "needs_background": "light"
     },
     "output_type": "display_data"
    },
    {
     "name": "stdout",
     "output_type": "stream",
     "text": [
      "equilibrium probabilities : [0.05361863 0.1008482  0.16808034 0.67745283]\n",
      "free energies (kcal/mol*K): [0.00581428 0.00455892 0.00354381 0.00077385]\n"
     ]
    }
   ],
   "source": [
    "kbT=0.0019872041 #kcal/mol\n",
    "Rmat=np.matrix(escapeMat)\n",
    "Dmat=np.matrix(np.diag(1-np.sum(escapeMat,axis=1)))\n",
    "Pvec=pCenters #use this as a starting guess\n",
    "Pvec=Pvec/np.sum(Pvec)\n",
    "\n",
    "RDmat=Rmat+Dmat\n",
    "plt.imshow(RDmat)\n",
    "plt.show()\n",
    "\n",
    "outEig=np.linalg.eig(RDmat.T)\n",
    "si=np.argsort(1-outEig[0])\n",
    "print 'Eigenvalues:',\n",
    "print outEig[0][si]\n",
    "outVec=np.array(outEig[1])[:,si[0]]\n",
    "outVec=outVec/np.sum(outVec)\n",
    "plt.plot(windowCenters,outVec)\n",
    "plt.scatter(windowCenters,outVec)\n",
    "plt.title(\"Equilibrium Occupancy Probability\")\n",
    "plt.show()\n",
    "plt.plot(windowCenters,-kbT*np.log(outVec))\n",
    "plt.scatter(windowCenters,-kbT*np.log(outVec))\n",
    "plt.title(\"Free Energy PMF\")\n",
    "plt.show()\n",
    "print \"equilibrium probabilities :\",\n",
    "print outVec\n",
    "print \"free energies (kcal/mol*K):\",\n",
    "print -kbT*np.log(outVec)"
   ]
  },
  {
   "cell_type": "code",
   "execution_count": null,
   "metadata": {},
   "outputs": [],
   "source": []
  }
 ],
 "metadata": {
  "kernelspec": {
   "display_name": "Python 2",
   "language": "python",
   "name": "python2"
  },
  "language_info": {
   "codemirror_mode": {
    "name": "ipython",
    "version": 2
   },
   "file_extension": ".py",
   "mimetype": "text/x-python",
   "name": "python",
   "nbconvert_exporter": "python",
   "pygments_lexer": "ipython2",
   "version": "2.7.16"
  }
 },
 "nbformat": 4,
 "nbformat_minor": 2
}
